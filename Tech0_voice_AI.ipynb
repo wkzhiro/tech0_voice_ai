{
  "nbformat": 4,
  "nbformat_minor": 0,
  "metadata": {
    "colab": {
      "provenance": [],
      "authorship_tag": "ABX9TyOmZsWyLMFhOOuhODlCRrZT",
      "include_colab_link": true
    },
    "kernelspec": {
      "name": "python3",
      "display_name": "Python 3"
    },
    "language_info": {
      "name": "python"
    },
    "widgets": {
      "application/vnd.jupyter.widget-state+json": {
        "8c594fb34ec549838a019c29391a2a4a": {
          "model_module": "@jupyter-widgets/controls",
          "model_name": "HBoxModel",
          "model_module_version": "1.5.0",
          "state": {
            "_dom_classes": [],
            "_model_module": "@jupyter-widgets/controls",
            "_model_module_version": "1.5.0",
            "_model_name": "HBoxModel",
            "_view_count": null,
            "_view_module": "@jupyter-widgets/controls",
            "_view_module_version": "1.5.0",
            "_view_name": "HBoxView",
            "box_style": "",
            "children": [
              "IPY_MODEL_cc074fb9971e43dc94c608e1a43d74bf",
              "IPY_MODEL_9308e996ca75414c862cd3bf015c42a4",
              "IPY_MODEL_8d908e9f999140128df28e702ff8a388"
            ],
            "layout": "IPY_MODEL_2ded0617a3e74f818f81dff627d78425"
          }
        },
        "cc074fb9971e43dc94c608e1a43d74bf": {
          "model_module": "@jupyter-widgets/controls",
          "model_name": "HTMLModel",
          "model_module_version": "1.5.0",
          "state": {
            "_dom_classes": [],
            "_model_module": "@jupyter-widgets/controls",
            "_model_module_version": "1.5.0",
            "_model_name": "HTMLModel",
            "_view_count": null,
            "_view_module": "@jupyter-widgets/controls",
            "_view_module_version": "1.5.0",
            "_view_name": "HTMLView",
            "description": "",
            "description_tooltip": null,
            "layout": "IPY_MODEL_a5310a1a9eca4500a57372e67457220c",
            "placeholder": "​",
            "style": "IPY_MODEL_60a5271d032e4f5dbd16a025bcb43223",
            "value": "config.yaml: 100%"
          }
        },
        "9308e996ca75414c862cd3bf015c42a4": {
          "model_module": "@jupyter-widgets/controls",
          "model_name": "FloatProgressModel",
          "model_module_version": "1.5.0",
          "state": {
            "_dom_classes": [],
            "_model_module": "@jupyter-widgets/controls",
            "_model_module_version": "1.5.0",
            "_model_name": "FloatProgressModel",
            "_view_count": null,
            "_view_module": "@jupyter-widgets/controls",
            "_view_module_version": "1.5.0",
            "_view_name": "ProgressView",
            "bar_style": "success",
            "description": "",
            "description_tooltip": null,
            "layout": "IPY_MODEL_ad2c759589ab452b814e3a0c20ca78d0",
            "max": 503,
            "min": 0,
            "orientation": "horizontal",
            "style": "IPY_MODEL_f2fe94ee458c414fa87921ec77168674",
            "value": 503
          }
        },
        "8d908e9f999140128df28e702ff8a388": {
          "model_module": "@jupyter-widgets/controls",
          "model_name": "HTMLModel",
          "model_module_version": "1.5.0",
          "state": {
            "_dom_classes": [],
            "_model_module": "@jupyter-widgets/controls",
            "_model_module_version": "1.5.0",
            "_model_name": "HTMLModel",
            "_view_count": null,
            "_view_module": "@jupyter-widgets/controls",
            "_view_module_version": "1.5.0",
            "_view_name": "HTMLView",
            "description": "",
            "description_tooltip": null,
            "layout": "IPY_MODEL_029213d287544bc0927260308f81d905",
            "placeholder": "​",
            "style": "IPY_MODEL_97d0f59555674f08ad313fd72c7f0fc5",
            "value": " 503/503 [00:00&lt;00:00, 12.6kB/s]"
          }
        },
        "2ded0617a3e74f818f81dff627d78425": {
          "model_module": "@jupyter-widgets/base",
          "model_name": "LayoutModel",
          "model_module_version": "1.2.0",
          "state": {
            "_model_module": "@jupyter-widgets/base",
            "_model_module_version": "1.2.0",
            "_model_name": "LayoutModel",
            "_view_count": null,
            "_view_module": "@jupyter-widgets/base",
            "_view_module_version": "1.2.0",
            "_view_name": "LayoutView",
            "align_content": null,
            "align_items": null,
            "align_self": null,
            "border": null,
            "bottom": null,
            "display": null,
            "flex": null,
            "flex_flow": null,
            "grid_area": null,
            "grid_auto_columns": null,
            "grid_auto_flow": null,
            "grid_auto_rows": null,
            "grid_column": null,
            "grid_gap": null,
            "grid_row": null,
            "grid_template_areas": null,
            "grid_template_columns": null,
            "grid_template_rows": null,
            "height": null,
            "justify_content": null,
            "justify_items": null,
            "left": null,
            "margin": null,
            "max_height": null,
            "max_width": null,
            "min_height": null,
            "min_width": null,
            "object_fit": null,
            "object_position": null,
            "order": null,
            "overflow": null,
            "overflow_x": null,
            "overflow_y": null,
            "padding": null,
            "right": null,
            "top": null,
            "visibility": null,
            "width": null
          }
        },
        "a5310a1a9eca4500a57372e67457220c": {
          "model_module": "@jupyter-widgets/base",
          "model_name": "LayoutModel",
          "model_module_version": "1.2.0",
          "state": {
            "_model_module": "@jupyter-widgets/base",
            "_model_module_version": "1.2.0",
            "_model_name": "LayoutModel",
            "_view_count": null,
            "_view_module": "@jupyter-widgets/base",
            "_view_module_version": "1.2.0",
            "_view_name": "LayoutView",
            "align_content": null,
            "align_items": null,
            "align_self": null,
            "border": null,
            "bottom": null,
            "display": null,
            "flex": null,
            "flex_flow": null,
            "grid_area": null,
            "grid_auto_columns": null,
            "grid_auto_flow": null,
            "grid_auto_rows": null,
            "grid_column": null,
            "grid_gap": null,
            "grid_row": null,
            "grid_template_areas": null,
            "grid_template_columns": null,
            "grid_template_rows": null,
            "height": null,
            "justify_content": null,
            "justify_items": null,
            "left": null,
            "margin": null,
            "max_height": null,
            "max_width": null,
            "min_height": null,
            "min_width": null,
            "object_fit": null,
            "object_position": null,
            "order": null,
            "overflow": null,
            "overflow_x": null,
            "overflow_y": null,
            "padding": null,
            "right": null,
            "top": null,
            "visibility": null,
            "width": null
          }
        },
        "60a5271d032e4f5dbd16a025bcb43223": {
          "model_module": "@jupyter-widgets/controls",
          "model_name": "DescriptionStyleModel",
          "model_module_version": "1.5.0",
          "state": {
            "_model_module": "@jupyter-widgets/controls",
            "_model_module_version": "1.5.0",
            "_model_name": "DescriptionStyleModel",
            "_view_count": null,
            "_view_module": "@jupyter-widgets/base",
            "_view_module_version": "1.2.0",
            "_view_name": "StyleView",
            "description_width": ""
          }
        },
        "ad2c759589ab452b814e3a0c20ca78d0": {
          "model_module": "@jupyter-widgets/base",
          "model_name": "LayoutModel",
          "model_module_version": "1.2.0",
          "state": {
            "_model_module": "@jupyter-widgets/base",
            "_model_module_version": "1.2.0",
            "_model_name": "LayoutModel",
            "_view_count": null,
            "_view_module": "@jupyter-widgets/base",
            "_view_module_version": "1.2.0",
            "_view_name": "LayoutView",
            "align_content": null,
            "align_items": null,
            "align_self": null,
            "border": null,
            "bottom": null,
            "display": null,
            "flex": null,
            "flex_flow": null,
            "grid_area": null,
            "grid_auto_columns": null,
            "grid_auto_flow": null,
            "grid_auto_rows": null,
            "grid_column": null,
            "grid_gap": null,
            "grid_row": null,
            "grid_template_areas": null,
            "grid_template_columns": null,
            "grid_template_rows": null,
            "height": null,
            "justify_content": null,
            "justify_items": null,
            "left": null,
            "margin": null,
            "max_height": null,
            "max_width": null,
            "min_height": null,
            "min_width": null,
            "object_fit": null,
            "object_position": null,
            "order": null,
            "overflow": null,
            "overflow_x": null,
            "overflow_y": null,
            "padding": null,
            "right": null,
            "top": null,
            "visibility": null,
            "width": null
          }
        },
        "f2fe94ee458c414fa87921ec77168674": {
          "model_module": "@jupyter-widgets/controls",
          "model_name": "ProgressStyleModel",
          "model_module_version": "1.5.0",
          "state": {
            "_model_module": "@jupyter-widgets/controls",
            "_model_module_version": "1.5.0",
            "_model_name": "ProgressStyleModel",
            "_view_count": null,
            "_view_module": "@jupyter-widgets/base",
            "_view_module_version": "1.2.0",
            "_view_name": "StyleView",
            "bar_color": null,
            "description_width": ""
          }
        },
        "029213d287544bc0927260308f81d905": {
          "model_module": "@jupyter-widgets/base",
          "model_name": "LayoutModel",
          "model_module_version": "1.2.0",
          "state": {
            "_model_module": "@jupyter-widgets/base",
            "_model_module_version": "1.2.0",
            "_model_name": "LayoutModel",
            "_view_count": null,
            "_view_module": "@jupyter-widgets/base",
            "_view_module_version": "1.2.0",
            "_view_name": "LayoutView",
            "align_content": null,
            "align_items": null,
            "align_self": null,
            "border": null,
            "bottom": null,
            "display": null,
            "flex": null,
            "flex_flow": null,
            "grid_area": null,
            "grid_auto_columns": null,
            "grid_auto_flow": null,
            "grid_auto_rows": null,
            "grid_column": null,
            "grid_gap": null,
            "grid_row": null,
            "grid_template_areas": null,
            "grid_template_columns": null,
            "grid_template_rows": null,
            "height": null,
            "justify_content": null,
            "justify_items": null,
            "left": null,
            "margin": null,
            "max_height": null,
            "max_width": null,
            "min_height": null,
            "min_width": null,
            "object_fit": null,
            "object_position": null,
            "order": null,
            "overflow": null,
            "overflow_x": null,
            "overflow_y": null,
            "padding": null,
            "right": null,
            "top": null,
            "visibility": null,
            "width": null
          }
        },
        "97d0f59555674f08ad313fd72c7f0fc5": {
          "model_module": "@jupyter-widgets/controls",
          "model_name": "DescriptionStyleModel",
          "model_module_version": "1.5.0",
          "state": {
            "_model_module": "@jupyter-widgets/controls",
            "_model_module_version": "1.5.0",
            "_model_name": "DescriptionStyleModel",
            "_view_count": null,
            "_view_module": "@jupyter-widgets/base",
            "_view_module_version": "1.2.0",
            "_view_name": "StyleView",
            "description_width": ""
          }
        },
        "323f54b59345405eb0ce461721ce4fe8": {
          "model_module": "@jupyter-widgets/controls",
          "model_name": "HBoxModel",
          "model_module_version": "1.5.0",
          "state": {
            "_dom_classes": [],
            "_model_module": "@jupyter-widgets/controls",
            "_model_module_version": "1.5.0",
            "_model_name": "HBoxModel",
            "_view_count": null,
            "_view_module": "@jupyter-widgets/controls",
            "_view_module_version": "1.5.0",
            "_view_name": "HBoxView",
            "box_style": "",
            "children": [
              "IPY_MODEL_c013400c63ca400b8bf3da62842310c3",
              "IPY_MODEL_a45b6a0ffec346e09ed7078b57a318c9",
              "IPY_MODEL_76ab961d91ff4f02bd8592bce9f21452"
            ],
            "layout": "IPY_MODEL_b681ec955fc541069640da1a2618127b"
          }
        },
        "c013400c63ca400b8bf3da62842310c3": {
          "model_module": "@jupyter-widgets/controls",
          "model_name": "HTMLModel",
          "model_module_version": "1.5.0",
          "state": {
            "_dom_classes": [],
            "_model_module": "@jupyter-widgets/controls",
            "_model_module_version": "1.5.0",
            "_model_name": "HTMLModel",
            "_view_count": null,
            "_view_module": "@jupyter-widgets/controls",
            "_view_module_version": "1.5.0",
            "_view_name": "HTMLView",
            "description": "",
            "description_tooltip": null,
            "layout": "IPY_MODEL_743ce6e50d9f4570b402f0606b55b13a",
            "placeholder": "​",
            "style": "IPY_MODEL_eca456a35b9c44a4b65a194793f5aab2",
            "value": "pytorch_model.bin: 100%"
          }
        },
        "a45b6a0ffec346e09ed7078b57a318c9": {
          "model_module": "@jupyter-widgets/controls",
          "model_name": "FloatProgressModel",
          "model_module_version": "1.5.0",
          "state": {
            "_dom_classes": [],
            "_model_module": "@jupyter-widgets/controls",
            "_model_module_version": "1.5.0",
            "_model_name": "FloatProgressModel",
            "_view_count": null,
            "_view_module": "@jupyter-widgets/controls",
            "_view_module_version": "1.5.0",
            "_view_name": "ProgressView",
            "bar_style": "success",
            "description": "",
            "description_tooltip": null,
            "layout": "IPY_MODEL_2a39a42f61ae453db52ecc36a04df157",
            "max": 40356708,
            "min": 0,
            "orientation": "horizontal",
            "style": "IPY_MODEL_f685caf5498144718461effa1256fa3f",
            "value": 40356708
          }
        },
        "76ab961d91ff4f02bd8592bce9f21452": {
          "model_module": "@jupyter-widgets/controls",
          "model_name": "HTMLModel",
          "model_module_version": "1.5.0",
          "state": {
            "_dom_classes": [],
            "_model_module": "@jupyter-widgets/controls",
            "_model_module_version": "1.5.0",
            "_model_name": "HTMLModel",
            "_view_count": null,
            "_view_module": "@jupyter-widgets/controls",
            "_view_module_version": "1.5.0",
            "_view_name": "HTMLView",
            "description": "",
            "description_tooltip": null,
            "layout": "IPY_MODEL_265d81da805a48f58d3bde5578915f3f",
            "placeholder": "​",
            "style": "IPY_MODEL_73832fab0140474e921fce730364d71d",
            "value": " 40.4M/40.4M [00:00&lt;00:00, 89.8MB/s]"
          }
        },
        "b681ec955fc541069640da1a2618127b": {
          "model_module": "@jupyter-widgets/base",
          "model_name": "LayoutModel",
          "model_module_version": "1.2.0",
          "state": {
            "_model_module": "@jupyter-widgets/base",
            "_model_module_version": "1.2.0",
            "_model_name": "LayoutModel",
            "_view_count": null,
            "_view_module": "@jupyter-widgets/base",
            "_view_module_version": "1.2.0",
            "_view_name": "LayoutView",
            "align_content": null,
            "align_items": null,
            "align_self": null,
            "border": null,
            "bottom": null,
            "display": null,
            "flex": null,
            "flex_flow": null,
            "grid_area": null,
            "grid_auto_columns": null,
            "grid_auto_flow": null,
            "grid_auto_rows": null,
            "grid_column": null,
            "grid_gap": null,
            "grid_row": null,
            "grid_template_areas": null,
            "grid_template_columns": null,
            "grid_template_rows": null,
            "height": null,
            "justify_content": null,
            "justify_items": null,
            "left": null,
            "margin": null,
            "max_height": null,
            "max_width": null,
            "min_height": null,
            "min_width": null,
            "object_fit": null,
            "object_position": null,
            "order": null,
            "overflow": null,
            "overflow_x": null,
            "overflow_y": null,
            "padding": null,
            "right": null,
            "top": null,
            "visibility": null,
            "width": null
          }
        },
        "743ce6e50d9f4570b402f0606b55b13a": {
          "model_module": "@jupyter-widgets/base",
          "model_name": "LayoutModel",
          "model_module_version": "1.2.0",
          "state": {
            "_model_module": "@jupyter-widgets/base",
            "_model_module_version": "1.2.0",
            "_model_name": "LayoutModel",
            "_view_count": null,
            "_view_module": "@jupyter-widgets/base",
            "_view_module_version": "1.2.0",
            "_view_name": "LayoutView",
            "align_content": null,
            "align_items": null,
            "align_self": null,
            "border": null,
            "bottom": null,
            "display": null,
            "flex": null,
            "flex_flow": null,
            "grid_area": null,
            "grid_auto_columns": null,
            "grid_auto_flow": null,
            "grid_auto_rows": null,
            "grid_column": null,
            "grid_gap": null,
            "grid_row": null,
            "grid_template_areas": null,
            "grid_template_columns": null,
            "grid_template_rows": null,
            "height": null,
            "justify_content": null,
            "justify_items": null,
            "left": null,
            "margin": null,
            "max_height": null,
            "max_width": null,
            "min_height": null,
            "min_width": null,
            "object_fit": null,
            "object_position": null,
            "order": null,
            "overflow": null,
            "overflow_x": null,
            "overflow_y": null,
            "padding": null,
            "right": null,
            "top": null,
            "visibility": null,
            "width": null
          }
        },
        "eca456a35b9c44a4b65a194793f5aab2": {
          "model_module": "@jupyter-widgets/controls",
          "model_name": "DescriptionStyleModel",
          "model_module_version": "1.5.0",
          "state": {
            "_model_module": "@jupyter-widgets/controls",
            "_model_module_version": "1.5.0",
            "_model_name": "DescriptionStyleModel",
            "_view_count": null,
            "_view_module": "@jupyter-widgets/base",
            "_view_module_version": "1.2.0",
            "_view_name": "StyleView",
            "description_width": ""
          }
        },
        "2a39a42f61ae453db52ecc36a04df157": {
          "model_module": "@jupyter-widgets/base",
          "model_name": "LayoutModel",
          "model_module_version": "1.2.0",
          "state": {
            "_model_module": "@jupyter-widgets/base",
            "_model_module_version": "1.2.0",
            "_model_name": "LayoutModel",
            "_view_count": null,
            "_view_module": "@jupyter-widgets/base",
            "_view_module_version": "1.2.0",
            "_view_name": "LayoutView",
            "align_content": null,
            "align_items": null,
            "align_self": null,
            "border": null,
            "bottom": null,
            "display": null,
            "flex": null,
            "flex_flow": null,
            "grid_area": null,
            "grid_auto_columns": null,
            "grid_auto_flow": null,
            "grid_auto_rows": null,
            "grid_column": null,
            "grid_gap": null,
            "grid_row": null,
            "grid_template_areas": null,
            "grid_template_columns": null,
            "grid_template_rows": null,
            "height": null,
            "justify_content": null,
            "justify_items": null,
            "left": null,
            "margin": null,
            "max_height": null,
            "max_width": null,
            "min_height": null,
            "min_width": null,
            "object_fit": null,
            "object_position": null,
            "order": null,
            "overflow": null,
            "overflow_x": null,
            "overflow_y": null,
            "padding": null,
            "right": null,
            "top": null,
            "visibility": null,
            "width": null
          }
        },
        "f685caf5498144718461effa1256fa3f": {
          "model_module": "@jupyter-widgets/controls",
          "model_name": "ProgressStyleModel",
          "model_module_version": "1.5.0",
          "state": {
            "_model_module": "@jupyter-widgets/controls",
            "_model_module_version": "1.5.0",
            "_model_name": "ProgressStyleModel",
            "_view_count": null,
            "_view_module": "@jupyter-widgets/base",
            "_view_module_version": "1.2.0",
            "_view_name": "StyleView",
            "bar_color": null,
            "description_width": ""
          }
        },
        "265d81da805a48f58d3bde5578915f3f": {
          "model_module": "@jupyter-widgets/base",
          "model_name": "LayoutModel",
          "model_module_version": "1.2.0",
          "state": {
            "_model_module": "@jupyter-widgets/base",
            "_model_module_version": "1.2.0",
            "_model_name": "LayoutModel",
            "_view_count": null,
            "_view_module": "@jupyter-widgets/base",
            "_view_module_version": "1.2.0",
            "_view_name": "LayoutView",
            "align_content": null,
            "align_items": null,
            "align_self": null,
            "border": null,
            "bottom": null,
            "display": null,
            "flex": null,
            "flex_flow": null,
            "grid_area": null,
            "grid_auto_columns": null,
            "grid_auto_flow": null,
            "grid_auto_rows": null,
            "grid_column": null,
            "grid_gap": null,
            "grid_row": null,
            "grid_template_areas": null,
            "grid_template_columns": null,
            "grid_template_rows": null,
            "height": null,
            "justify_content": null,
            "justify_items": null,
            "left": null,
            "margin": null,
            "max_height": null,
            "max_width": null,
            "min_height": null,
            "min_width": null,
            "object_fit": null,
            "object_position": null,
            "order": null,
            "overflow": null,
            "overflow_x": null,
            "overflow_y": null,
            "padding": null,
            "right": null,
            "top": null,
            "visibility": null,
            "width": null
          }
        },
        "73832fab0140474e921fce730364d71d": {
          "model_module": "@jupyter-widgets/controls",
          "model_name": "DescriptionStyleModel",
          "model_module_version": "1.5.0",
          "state": {
            "_model_module": "@jupyter-widgets/controls",
            "_model_module_version": "1.5.0",
            "_model_name": "DescriptionStyleModel",
            "_view_count": null,
            "_view_module": "@jupyter-widgets/base",
            "_view_module_version": "1.2.0",
            "_view_name": "StyleView",
            "description_width": ""
          }
        },
        "862d7b312bf74dd5b1739add1a5cfacd": {
          "model_module": "@jupyter-widgets/controls",
          "model_name": "HBoxModel",
          "model_module_version": "1.5.0",
          "state": {
            "_dom_classes": [],
            "_model_module": "@jupyter-widgets/controls",
            "_model_module_version": "1.5.0",
            "_model_name": "HBoxModel",
            "_view_count": null,
            "_view_module": "@jupyter-widgets/controls",
            "_view_module_version": "1.5.0",
            "_view_name": "HBoxView",
            "box_style": "",
            "children": [
              "IPY_MODEL_09c23656e0be4b4eb49e440bae6635e2",
              "IPY_MODEL_e393cb8cc27c47008cc10cca75e42350",
              "IPY_MODEL_8b252820f95f4c2099e57f867d20f84a"
            ],
            "layout": "IPY_MODEL_10a95378a9094eada09cc79526ff0a6a"
          }
        },
        "09c23656e0be4b4eb49e440bae6635e2": {
          "model_module": "@jupyter-widgets/controls",
          "model_name": "HTMLModel",
          "model_module_version": "1.5.0",
          "state": {
            "_dom_classes": [],
            "_model_module": "@jupyter-widgets/controls",
            "_model_module_version": "1.5.0",
            "_model_name": "HTMLModel",
            "_view_count": null,
            "_view_module": "@jupyter-widgets/controls",
            "_view_module_version": "1.5.0",
            "_view_name": "HTMLView",
            "description": "",
            "description_tooltip": null,
            "layout": "IPY_MODEL_e298ae9c60c24ec693c62b16b66aec49",
            "placeholder": "​",
            "style": "IPY_MODEL_0f9b96fe003a422795f8c4b8d0882839",
            "value": "dic.tar.gz: 100%"
          }
        },
        "e393cb8cc27c47008cc10cca75e42350": {
          "model_module": "@jupyter-widgets/controls",
          "model_name": "FloatProgressModel",
          "model_module_version": "1.5.0",
          "state": {
            "_dom_classes": [],
            "_model_module": "@jupyter-widgets/controls",
            "_model_module_version": "1.5.0",
            "_model_name": "FloatProgressModel",
            "_view_count": null,
            "_view_module": "@jupyter-widgets/controls",
            "_view_module_version": "1.5.0",
            "_view_name": "ProgressView",
            "bar_style": "success",
            "description": "",
            "description_tooltip": null,
            "layout": "IPY_MODEL_241da7f8f590430da900008be591129e",
            "max": 1,
            "min": 0,
            "orientation": "horizontal",
            "style": "IPY_MODEL_35d8864cce7843cabfef93f7c593b95e",
            "value": 1
          }
        },
        "8b252820f95f4c2099e57f867d20f84a": {
          "model_module": "@jupyter-widgets/controls",
          "model_name": "HTMLModel",
          "model_module_version": "1.5.0",
          "state": {
            "_dom_classes": [],
            "_model_module": "@jupyter-widgets/controls",
            "_model_module_version": "1.5.0",
            "_model_name": "HTMLModel",
            "_view_count": null,
            "_view_module": "@jupyter-widgets/controls",
            "_view_module_version": "1.5.0",
            "_view_name": "HTMLView",
            "description": "",
            "description_tooltip": null,
            "layout": "IPY_MODEL_a219e7fe37a145ddbbcc9987edeed3d3",
            "placeholder": "​",
            "style": "IPY_MODEL_823b6e5bb23e432c8480c80a52a75a4c",
            "value": " 22.6M/22.6M [00:00&lt;00:00, 30.8MB/s]"
          }
        },
        "10a95378a9094eada09cc79526ff0a6a": {
          "model_module": "@jupyter-widgets/base",
          "model_name": "LayoutModel",
          "model_module_version": "1.2.0",
          "state": {
            "_model_module": "@jupyter-widgets/base",
            "_model_module_version": "1.2.0",
            "_model_name": "LayoutModel",
            "_view_count": null,
            "_view_module": "@jupyter-widgets/base",
            "_view_module_version": "1.2.0",
            "_view_name": "LayoutView",
            "align_content": null,
            "align_items": null,
            "align_self": null,
            "border": null,
            "bottom": null,
            "display": null,
            "flex": null,
            "flex_flow": null,
            "grid_area": null,
            "grid_auto_columns": null,
            "grid_auto_flow": null,
            "grid_auto_rows": null,
            "grid_column": null,
            "grid_gap": null,
            "grid_row": null,
            "grid_template_areas": null,
            "grid_template_columns": null,
            "grid_template_rows": null,
            "height": null,
            "justify_content": null,
            "justify_items": null,
            "left": null,
            "margin": null,
            "max_height": null,
            "max_width": null,
            "min_height": null,
            "min_width": null,
            "object_fit": null,
            "object_position": null,
            "order": null,
            "overflow": null,
            "overflow_x": null,
            "overflow_y": null,
            "padding": null,
            "right": null,
            "top": null,
            "visibility": null,
            "width": null
          }
        },
        "e298ae9c60c24ec693c62b16b66aec49": {
          "model_module": "@jupyter-widgets/base",
          "model_name": "LayoutModel",
          "model_module_version": "1.2.0",
          "state": {
            "_model_module": "@jupyter-widgets/base",
            "_model_module_version": "1.2.0",
            "_model_name": "LayoutModel",
            "_view_count": null,
            "_view_module": "@jupyter-widgets/base",
            "_view_module_version": "1.2.0",
            "_view_name": "LayoutView",
            "align_content": null,
            "align_items": null,
            "align_self": null,
            "border": null,
            "bottom": null,
            "display": null,
            "flex": null,
            "flex_flow": null,
            "grid_area": null,
            "grid_auto_columns": null,
            "grid_auto_flow": null,
            "grid_auto_rows": null,
            "grid_column": null,
            "grid_gap": null,
            "grid_row": null,
            "grid_template_areas": null,
            "grid_template_columns": null,
            "grid_template_rows": null,
            "height": null,
            "justify_content": null,
            "justify_items": null,
            "left": null,
            "margin": null,
            "max_height": null,
            "max_width": null,
            "min_height": null,
            "min_width": null,
            "object_fit": null,
            "object_position": null,
            "order": null,
            "overflow": null,
            "overflow_x": null,
            "overflow_y": null,
            "padding": null,
            "right": null,
            "top": null,
            "visibility": null,
            "width": null
          }
        },
        "0f9b96fe003a422795f8c4b8d0882839": {
          "model_module": "@jupyter-widgets/controls",
          "model_name": "DescriptionStyleModel",
          "model_module_version": "1.5.0",
          "state": {
            "_model_module": "@jupyter-widgets/controls",
            "_model_module_version": "1.5.0",
            "_model_name": "DescriptionStyleModel",
            "_view_count": null,
            "_view_module": "@jupyter-widgets/base",
            "_view_module_version": "1.2.0",
            "_view_name": "StyleView",
            "description_width": ""
          }
        },
        "241da7f8f590430da900008be591129e": {
          "model_module": "@jupyter-widgets/base",
          "model_name": "LayoutModel",
          "model_module_version": "1.2.0",
          "state": {
            "_model_module": "@jupyter-widgets/base",
            "_model_module_version": "1.2.0",
            "_model_name": "LayoutModel",
            "_view_count": null,
            "_view_module": "@jupyter-widgets/base",
            "_view_module_version": "1.2.0",
            "_view_name": "LayoutView",
            "align_content": null,
            "align_items": null,
            "align_self": null,
            "border": null,
            "bottom": null,
            "display": null,
            "flex": null,
            "flex_flow": null,
            "grid_area": null,
            "grid_auto_columns": null,
            "grid_auto_flow": null,
            "grid_auto_rows": null,
            "grid_column": null,
            "grid_gap": null,
            "grid_row": null,
            "grid_template_areas": null,
            "grid_template_columns": null,
            "grid_template_rows": null,
            "height": null,
            "justify_content": null,
            "justify_items": null,
            "left": null,
            "margin": null,
            "max_height": null,
            "max_width": null,
            "min_height": null,
            "min_width": null,
            "object_fit": null,
            "object_position": null,
            "order": null,
            "overflow": null,
            "overflow_x": null,
            "overflow_y": null,
            "padding": null,
            "right": null,
            "top": null,
            "visibility": null,
            "width": "20px"
          }
        },
        "35d8864cce7843cabfef93f7c593b95e": {
          "model_module": "@jupyter-widgets/controls",
          "model_name": "ProgressStyleModel",
          "model_module_version": "1.5.0",
          "state": {
            "_model_module": "@jupyter-widgets/controls",
            "_model_module_version": "1.5.0",
            "_model_name": "ProgressStyleModel",
            "_view_count": null,
            "_view_module": "@jupyter-widgets/base",
            "_view_module_version": "1.2.0",
            "_view_name": "StyleView",
            "bar_color": null,
            "description_width": ""
          }
        },
        "a219e7fe37a145ddbbcc9987edeed3d3": {
          "model_module": "@jupyter-widgets/base",
          "model_name": "LayoutModel",
          "model_module_version": "1.2.0",
          "state": {
            "_model_module": "@jupyter-widgets/base",
            "_model_module_version": "1.2.0",
            "_model_name": "LayoutModel",
            "_view_count": null,
            "_view_module": "@jupyter-widgets/base",
            "_view_module_version": "1.2.0",
            "_view_name": "LayoutView",
            "align_content": null,
            "align_items": null,
            "align_self": null,
            "border": null,
            "bottom": null,
            "display": null,
            "flex": null,
            "flex_flow": null,
            "grid_area": null,
            "grid_auto_columns": null,
            "grid_auto_flow": null,
            "grid_auto_rows": null,
            "grid_column": null,
            "grid_gap": null,
            "grid_row": null,
            "grid_template_areas": null,
            "grid_template_columns": null,
            "grid_template_rows": null,
            "height": null,
            "justify_content": null,
            "justify_items": null,
            "left": null,
            "margin": null,
            "max_height": null,
            "max_width": null,
            "min_height": null,
            "min_width": null,
            "object_fit": null,
            "object_position": null,
            "order": null,
            "overflow": null,
            "overflow_x": null,
            "overflow_y": null,
            "padding": null,
            "right": null,
            "top": null,
            "visibility": null,
            "width": null
          }
        },
        "823b6e5bb23e432c8480c80a52a75a4c": {
          "model_module": "@jupyter-widgets/controls",
          "model_name": "DescriptionStyleModel",
          "model_module_version": "1.5.0",
          "state": {
            "_model_module": "@jupyter-widgets/controls",
            "_model_module_version": "1.5.0",
            "_model_name": "DescriptionStyleModel",
            "_view_count": null,
            "_view_module": "@jupyter-widgets/base",
            "_view_module_version": "1.2.0",
            "_view_name": "StyleView",
            "description_width": ""
          }
        }
      }
    }
  },
  "cells": [
    {
      "cell_type": "markdown",
      "metadata": {
        "id": "view-in-github",
        "colab_type": "text"
      },
      "source": [
        "<a href=\"https://colab.research.google.com/github/wkzhiro/tech0_voice_ai/blob/main/Tech0_voice_AI.ipynb\" target=\"_parent\"><img src=\"https://colab.research.google.com/assets/colab-badge.svg\" alt=\"Open In Colab\"/></a>"
      ]
    },
    {
      "cell_type": "markdown",
      "source": [
        "# 音声AIの体験\n",
        "\n",
        "## ・免責事項\n",
        "> これは㈱Tech0によって提供されるプログラム体験ファイルであり、その目的に特化して作成されています。当社では、このファイルを使用した際に発生する可能性のあるいかなる不具合についても責任を負いかねます。<br>ファイルの品質と機能性を確保するために万全を尽くしておりますが、万一の不具合発生時にはご理解いただけますようお願い申し上げます。\n",
        "\n",
        "## ・操作方法\n",
        "\n",
        "下記に用意されているコードに対して、<br>\n",
        "> windows: コードブロックを選択した状態でCtrl + Enter<br>\n",
        ">Mac: コードブロックを選択した状態でCommand + Enter\n",
        "\n",
        "もしくは▶マークを選択して、コードを起動してください。\n",
        "\n",
        "## ・確認\n",
        "\n",
        "コードブロック横が✔になれば動作は完了しています。<br>\n",
        "Warningが表示されていたとしても、先に続くコードが活用できていれば基本問題はございません。\n",
        "\n",
        "## ・ダウンロードについて\n",
        "\n",
        "プログラム実行時にファイルがダウンロードされますが、ご使用の端末やクラウド上にはデータは保存されません。"
      ],
      "metadata": {
        "id": "ueXzUxFI7hVm"
      }
    },
    {
      "cell_type": "markdown",
      "source": [
        "## １．音声の文字起こし体験"
      ],
      "metadata": {
        "id": "oUeHjv0m7u0r"
      }
    },
    {
      "cell_type": "code",
      "source": [
        "#必要なライブラリのインストール\n",
        "!pip install pydub"
      ],
      "metadata": {
        "colab": {
          "base_uri": "https://localhost:8080/"
        },
        "id": "UlnGQmq034mM",
        "outputId": "e81ff70c-e835-4291-af48-0ae33b0a9720"
      },
      "execution_count": 14,
      "outputs": [
        {
          "output_type": "stream",
          "name": "stdout",
          "text": [
            "Requirement already satisfied: pydub in /usr/local/lib/python3.10/dist-packages (0.25.1)\n"
          ]
        }
      ]
    },
    {
      "cell_type": "code",
      "source": [
        "#whipserのダウンロード\n",
        "!pip install git+https://github.com/openai/whisper.git"
      ],
      "metadata": {
        "colab": {
          "base_uri": "https://localhost:8080/"
        },
        "id": "5oRZaONl3-Yq",
        "outputId": "0ce1a36f-f213-429c-8206-12b3d1eca100"
      },
      "execution_count": 2,
      "outputs": [
        {
          "output_type": "stream",
          "name": "stdout",
          "text": [
            "Collecting git+https://github.com/openai/whisper.git\n",
            "  Cloning https://github.com/openai/whisper.git to /tmp/pip-req-build-pxwx34gr\n",
            "  Running command git clone --filter=blob:none --quiet https://github.com/openai/whisper.git /tmp/pip-req-build-pxwx34gr\n",
            "  Resolved https://github.com/openai/whisper.git to commit ba3f3cd54b0e5b8ce1ab3de13e32122d0d5f98ab\n",
            "  Installing build dependencies ... \u001b[?25l\u001b[?25hdone\n",
            "  Getting requirements to build wheel ... \u001b[?25l\u001b[?25hdone\n",
            "  Preparing metadata (pyproject.toml) ... \u001b[?25l\u001b[?25hdone\n",
            "Requirement already satisfied: numba in /usr/local/lib/python3.10/dist-packages (from openai-whisper==20231117) (0.58.1)\n",
            "Requirement already satisfied: numpy in /usr/local/lib/python3.10/dist-packages (from openai-whisper==20231117) (1.25.2)\n",
            "Requirement already satisfied: torch in /usr/local/lib/python3.10/dist-packages (from openai-whisper==20231117) (2.2.1+cu121)\n",
            "Requirement already satisfied: tqdm in /usr/local/lib/python3.10/dist-packages (from openai-whisper==20231117) (4.66.2)\n",
            "Requirement already satisfied: more-itertools in /usr/local/lib/python3.10/dist-packages (from openai-whisper==20231117) (10.1.0)\n",
            "Collecting tiktoken (from openai-whisper==20231117)\n",
            "  Downloading tiktoken-0.6.0-cp310-cp310-manylinux_2_17_x86_64.manylinux2014_x86_64.whl (1.8 MB)\n",
            "\u001b[2K     \u001b[90m━━━━━━━━━━━━━━━━━━━━━━━━━━━━━━━━━━━━━━━━\u001b[0m \u001b[32m1.8/1.8 MB\u001b[0m \u001b[31m11.6 MB/s\u001b[0m eta \u001b[36m0:00:00\u001b[0m\n",
            "\u001b[?25hRequirement already satisfied: triton<3,>=2.0.0 in /usr/local/lib/python3.10/dist-packages (from openai-whisper==20231117) (2.2.0)\n",
            "Requirement already satisfied: filelock in /usr/local/lib/python3.10/dist-packages (from triton<3,>=2.0.0->openai-whisper==20231117) (3.13.1)\n",
            "Requirement already satisfied: llvmlite<0.42,>=0.41.0dev0 in /usr/local/lib/python3.10/dist-packages (from numba->openai-whisper==20231117) (0.41.1)\n",
            "Requirement already satisfied: regex>=2022.1.18 in /usr/local/lib/python3.10/dist-packages (from tiktoken->openai-whisper==20231117) (2023.12.25)\n",
            "Requirement already satisfied: requests>=2.26.0 in /usr/local/lib/python3.10/dist-packages (from tiktoken->openai-whisper==20231117) (2.31.0)\n",
            "Requirement already satisfied: typing-extensions>=4.8.0 in /usr/local/lib/python3.10/dist-packages (from torch->openai-whisper==20231117) (4.10.0)\n",
            "Requirement already satisfied: sympy in /usr/local/lib/python3.10/dist-packages (from torch->openai-whisper==20231117) (1.12)\n",
            "Requirement already satisfied: networkx in /usr/local/lib/python3.10/dist-packages (from torch->openai-whisper==20231117) (3.2.1)\n",
            "Requirement already satisfied: jinja2 in /usr/local/lib/python3.10/dist-packages (from torch->openai-whisper==20231117) (3.1.3)\n",
            "Requirement already satisfied: fsspec in /usr/local/lib/python3.10/dist-packages (from torch->openai-whisper==20231117) (2023.6.0)\n",
            "Collecting nvidia-cuda-nvrtc-cu12==12.1.105 (from torch->openai-whisper==20231117)\n",
            "  Downloading nvidia_cuda_nvrtc_cu12-12.1.105-py3-none-manylinux1_x86_64.whl (23.7 MB)\n",
            "\u001b[2K     \u001b[90m━━━━━━━━━━━━━━━━━━━━━━━━━━━━━━━━━━━━━━━━\u001b[0m \u001b[32m23.7/23.7 MB\u001b[0m \u001b[31m42.8 MB/s\u001b[0m eta \u001b[36m0:00:00\u001b[0m\n",
            "\u001b[?25hCollecting nvidia-cuda-runtime-cu12==12.1.105 (from torch->openai-whisper==20231117)\n",
            "  Downloading nvidia_cuda_runtime_cu12-12.1.105-py3-none-manylinux1_x86_64.whl (823 kB)\n",
            "\u001b[2K     \u001b[90m━━━━━━━━━━━━━━━━━━━━━━━━━━━━━━━━━━━━━━━━\u001b[0m \u001b[32m823.6/823.6 kB\u001b[0m \u001b[31m52.2 MB/s\u001b[0m eta \u001b[36m0:00:00\u001b[0m\n",
            "\u001b[?25hCollecting nvidia-cuda-cupti-cu12==12.1.105 (from torch->openai-whisper==20231117)\n",
            "  Downloading nvidia_cuda_cupti_cu12-12.1.105-py3-none-manylinux1_x86_64.whl (14.1 MB)\n",
            "\u001b[2K     \u001b[90m━━━━━━━━━━━━━━━━━━━━━━━━━━━━━━━━━━━━━━━━\u001b[0m \u001b[32m14.1/14.1 MB\u001b[0m \u001b[31m72.0 MB/s\u001b[0m eta \u001b[36m0:00:00\u001b[0m\n",
            "\u001b[?25hCollecting nvidia-cudnn-cu12==8.9.2.26 (from torch->openai-whisper==20231117)\n",
            "  Downloading nvidia_cudnn_cu12-8.9.2.26-py3-none-manylinux1_x86_64.whl (731.7 MB)\n",
            "\u001b[2K     \u001b[90m━━━━━━━━━━━━━━━━━━━━━━━━━━━━━━━━━━━━━━━━\u001b[0m \u001b[32m731.7/731.7 MB\u001b[0m \u001b[31m2.0 MB/s\u001b[0m eta \u001b[36m0:00:00\u001b[0m\n",
            "\u001b[?25hCollecting nvidia-cublas-cu12==12.1.3.1 (from torch->openai-whisper==20231117)\n",
            "  Downloading nvidia_cublas_cu12-12.1.3.1-py3-none-manylinux1_x86_64.whl (410.6 MB)\n",
            "\u001b[2K     \u001b[90m━━━━━━━━━━━━━━━━━━━━━━━━━━━━━━━━━━━━━━━━\u001b[0m \u001b[32m410.6/410.6 MB\u001b[0m \u001b[31m2.6 MB/s\u001b[0m eta \u001b[36m0:00:00\u001b[0m\n",
            "\u001b[?25hCollecting nvidia-cufft-cu12==11.0.2.54 (from torch->openai-whisper==20231117)\n",
            "  Downloading nvidia_cufft_cu12-11.0.2.54-py3-none-manylinux1_x86_64.whl (121.6 MB)\n",
            "\u001b[2K     \u001b[90m━━━━━━━━━━━━━━━━━━━━━━━━━━━━━━━━━━━━━━━━\u001b[0m \u001b[32m121.6/121.6 MB\u001b[0m \u001b[31m8.3 MB/s\u001b[0m eta \u001b[36m0:00:00\u001b[0m\n",
            "\u001b[?25hCollecting nvidia-curand-cu12==10.3.2.106 (from torch->openai-whisper==20231117)\n",
            "  Downloading nvidia_curand_cu12-10.3.2.106-py3-none-manylinux1_x86_64.whl (56.5 MB)\n",
            "\u001b[2K     \u001b[90m━━━━━━━━━━━━━━━━━━━━━━━━━━━━━━━━━━━━━━━━\u001b[0m \u001b[32m56.5/56.5 MB\u001b[0m \u001b[31m10.0 MB/s\u001b[0m eta \u001b[36m0:00:00\u001b[0m\n",
            "\u001b[?25hCollecting nvidia-cusolver-cu12==11.4.5.107 (from torch->openai-whisper==20231117)\n",
            "  Downloading nvidia_cusolver_cu12-11.4.5.107-py3-none-manylinux1_x86_64.whl (124.2 MB)\n",
            "\u001b[2K     \u001b[90m━━━━━━━━━━━━━━━━━━━━━━━━━━━━━━━━━━━━━━━━\u001b[0m \u001b[32m124.2/124.2 MB\u001b[0m \u001b[31m8.6 MB/s\u001b[0m eta \u001b[36m0:00:00\u001b[0m\n",
            "\u001b[?25hCollecting nvidia-cusparse-cu12==12.1.0.106 (from torch->openai-whisper==20231117)\n",
            "  Downloading nvidia_cusparse_cu12-12.1.0.106-py3-none-manylinux1_x86_64.whl (196.0 MB)\n",
            "\u001b[2K     \u001b[90m━━━━━━━━━━━━━━━━━━━━━━━━━━━━━━━━━━━━━━━━\u001b[0m \u001b[32m196.0/196.0 MB\u001b[0m \u001b[31m4.4 MB/s\u001b[0m eta \u001b[36m0:00:00\u001b[0m\n",
            "\u001b[?25hCollecting nvidia-nccl-cu12==2.19.3 (from torch->openai-whisper==20231117)\n",
            "  Downloading nvidia_nccl_cu12-2.19.3-py3-none-manylinux1_x86_64.whl (166.0 MB)\n",
            "\u001b[2K     \u001b[90m━━━━━━━━━━━━━━━━━━━━━━━━━━━━━━━━━━━━━━━━\u001b[0m \u001b[32m166.0/166.0 MB\u001b[0m \u001b[31m7.8 MB/s\u001b[0m eta \u001b[36m0:00:00\u001b[0m\n",
            "\u001b[?25hCollecting nvidia-nvtx-cu12==12.1.105 (from torch->openai-whisper==20231117)\n",
            "  Downloading nvidia_nvtx_cu12-12.1.105-py3-none-manylinux1_x86_64.whl (99 kB)\n",
            "\u001b[2K     \u001b[90m━━━━━━━━━━━━━━━━━━━━━━━━━━━━━━━━━━━━━━━━\u001b[0m \u001b[32m99.1/99.1 kB\u001b[0m \u001b[31m13.7 MB/s\u001b[0m eta \u001b[36m0:00:00\u001b[0m\n",
            "\u001b[?25hCollecting nvidia-nvjitlink-cu12 (from nvidia-cusolver-cu12==11.4.5.107->torch->openai-whisper==20231117)\n",
            "  Downloading nvidia_nvjitlink_cu12-12.4.99-py3-none-manylinux2014_x86_64.whl (21.1 MB)\n",
            "\u001b[2K     \u001b[90m━━━━━━━━━━━━━━━━━━━━━━━━━━━━━━━━━━━━━━━━\u001b[0m \u001b[32m21.1/21.1 MB\u001b[0m \u001b[31m53.1 MB/s\u001b[0m eta \u001b[36m0:00:00\u001b[0m\n",
            "\u001b[?25hRequirement already satisfied: charset-normalizer<4,>=2 in /usr/local/lib/python3.10/dist-packages (from requests>=2.26.0->tiktoken->openai-whisper==20231117) (3.3.2)\n",
            "Requirement already satisfied: idna<4,>=2.5 in /usr/local/lib/python3.10/dist-packages (from requests>=2.26.0->tiktoken->openai-whisper==20231117) (3.6)\n",
            "Requirement already satisfied: urllib3<3,>=1.21.1 in /usr/local/lib/python3.10/dist-packages (from requests>=2.26.0->tiktoken->openai-whisper==20231117) (2.0.7)\n",
            "Requirement already satisfied: certifi>=2017.4.17 in /usr/local/lib/python3.10/dist-packages (from requests>=2.26.0->tiktoken->openai-whisper==20231117) (2024.2.2)\n",
            "Requirement already satisfied: MarkupSafe>=2.0 in /usr/local/lib/python3.10/dist-packages (from jinja2->torch->openai-whisper==20231117) (2.1.5)\n",
            "Requirement already satisfied: mpmath>=0.19 in /usr/local/lib/python3.10/dist-packages (from sympy->torch->openai-whisper==20231117) (1.3.0)\n",
            "Building wheels for collected packages: openai-whisper\n",
            "  Building wheel for openai-whisper (pyproject.toml) ... \u001b[?25l\u001b[?25hdone\n",
            "  Created wheel for openai-whisper: filename=openai_whisper-20231117-py3-none-any.whl size=802826 sha256=44a201f83482f666ddbaa57631e1826848f766fd5781cfce4588c743f6205c84\n",
            "  Stored in directory: /tmp/pip-ephem-wheel-cache-9265s03c/wheels/8b/6c/d0/622666868c179f156cf595c8b6f06f88bc5d80c4b31dccaa03\n",
            "Successfully built openai-whisper\n",
            "Installing collected packages: nvidia-nvtx-cu12, nvidia-nvjitlink-cu12, nvidia-nccl-cu12, nvidia-curand-cu12, nvidia-cufft-cu12, nvidia-cuda-runtime-cu12, nvidia-cuda-nvrtc-cu12, nvidia-cuda-cupti-cu12, nvidia-cublas-cu12, tiktoken, nvidia-cusparse-cu12, nvidia-cudnn-cu12, nvidia-cusolver-cu12, openai-whisper\n",
            "Successfully installed nvidia-cublas-cu12-12.1.3.1 nvidia-cuda-cupti-cu12-12.1.105 nvidia-cuda-nvrtc-cu12-12.1.105 nvidia-cuda-runtime-cu12-12.1.105 nvidia-cudnn-cu12-8.9.2.26 nvidia-cufft-cu12-11.0.2.54 nvidia-curand-cu12-10.3.2.106 nvidia-cusolver-cu12-11.4.5.107 nvidia-cusparse-cu12-12.1.0.106 nvidia-nccl-cu12-2.19.3 nvidia-nvjitlink-cu12-12.4.99 nvidia-nvtx-cu12-12.1.105 openai-whisper-20231117 tiktoken-0.6.0\n"
          ]
        }
      ]
    },
    {
      "cell_type": "code",
      "execution_count": 16,
      "metadata": {
        "id": "PxtrDg-K0ps6"
      },
      "outputs": [],
      "source": [
        "#音声を録画するためのコード\n",
        "from IPython.display import display, Javascript\n",
        "from google.colab.output import eval_js\n",
        "from base64 import b64decode\n",
        "\n",
        "def record_js(filename='record.mp3'):\n",
        "  js = Javascript('''\n",
        "    async function record() {\n",
        "      let rec;\n",
        "      let chanks;\n",
        "\n",
        "\n",
        "      // HTML組み立て\n",
        "      const div = document.createElement('div');\n",
        "      const startRecord = document.createElement('button');\n",
        "      startRecord.textContent = 'Rec';\n",
        "      div.appendChild(startRecord);\n",
        "\n",
        "      const stopRecord = document.createElement('button');\n",
        "      stopRecord.textContent = 'Stop';\n",
        "      stopRecord.style.display = 'none'\n",
        "      div.appendChild(stopRecord);\n",
        "\n",
        "      const audio = document.createElement('audio');\n",
        "      div.appendChild(audio);\n",
        "\n",
        "      document.body.appendChild(div);\n",
        "\n",
        "      // Audioが有効になったら\n",
        "      function handlerFunction(stream,resolve) {\n",
        "          rec = new MediaRecorder(stream);\n",
        "          // 録音が完了したら\n",
        "          rec.ondataavailable = e => {\n",
        "              chanks.push(e.data);\n",
        "              if (rec.state == \"inactive\") {\n",
        "                  let blob = new Blob(chanks, { type: 'audio/mpeg-3' });\n",
        "                  audio.src = URL.createObjectURL(blob);\n",
        "                  audio.controls = true;\n",
        "                  audio.autoplay = true;\n",
        "                  resolve();\n",
        "              }\n",
        "          }\n",
        "      }\n",
        "\n",
        "      startRecord.onclick = e => {\n",
        "          startRecord.style.display = 'none'\n",
        "          stopRecord.style.display = 'block'\n",
        "          chanks = [];\n",
        "          rec.start();\n",
        "      }\n",
        "\n",
        "      stopRecord.onclick = e => {\n",
        "        startRecord.style.display = 'block'\n",
        "        stopRecord.style.display = 'none'\n",
        "        rec.stop();\n",
        "      }\n",
        "\n",
        "      function blobToBase64(blob) {\n",
        "        return new Promise((resolve, _) => {\n",
        "          const reader = new FileReader();\n",
        "          reader.onloadend = () => resolve(reader.result);\n",
        "          reader.readAsDataURL(blob);\n",
        "        });\n",
        "      }\n",
        "\n",
        "      await new Promise((resolve) => {\n",
        "        navigator.mediaDevices.getUserMedia({ audio: true })\n",
        "            .then(stream => { handlerFunction(stream,resolve) })\n",
        "      });\n",
        "      let blob = new Blob(chanks, { type: 'audio/mpeg-3' });\n",
        "      return await blobToBase64(blob);\n",
        "    }\n",
        "    ''')\n",
        "  display(js)\n",
        "  data = eval_js('record()')\n",
        "  binary = b64decode(data.split(',')[1])\n",
        "  with open(filename, 'wb') as f:\n",
        "    f.write(binary)\n",
        "  return filename"
      ]
    },
    {
      "cell_type": "markdown",
      "source": [
        "１．以下のセルを実行した後に「Rec」ボタンが出てきます。\n",
        "２．Recボタンを押した後から録音が開始されるため、音声を録音、その後にStopを押して終了します。\n",
        "３．録音されたデータが表示されるので、▶ボタンを押して再生できます。\n",
        "\n",
        "\n",
        "※もし、マイク使用許可の通知が上部に出てきた際は許可をしてください。"
      ],
      "metadata": {
        "id": "3N8wPIC1GwGo"
      }
    },
    {
      "cell_type": "code",
      "source": [
        "try:\n",
        "  filename = record_js(\"test.mp3\")\n",
        "  audio_file= open(filename, \"rb\")\n",
        "  print(audio_file)\n",
        "except Exception as err:\n",
        "  print(str(err))"
      ],
      "metadata": {
        "colab": {
          "base_uri": "https://localhost:8080/",
          "height": 115
        },
        "id": "R1Y4Qc3b1Gyp",
        "outputId": "13eb2f38-7154-47f2-d7e5-cb275bdaa9f2"
      },
      "execution_count": 4,
      "outputs": [
        {
          "output_type": "display_data",
          "data": {
            "text/plain": [
              "<IPython.core.display.Javascript object>"
            ],
            "application/javascript": [
              "\n",
              "    async function record() {\n",
              "      let rec;\n",
              "      let chanks;\n",
              "\n",
              "\n",
              "      // HTML組み立て\n",
              "      const div = document.createElement('div');\n",
              "      const startRecord = document.createElement('button');\n",
              "      startRecord.textContent = 'Rec';\n",
              "      div.appendChild(startRecord);\n",
              "\n",
              "      const stopRecord = document.createElement('button');\n",
              "      stopRecord.textContent = 'Stop';\n",
              "      stopRecord.style.display = 'none'\n",
              "      div.appendChild(stopRecord);\n",
              "\n",
              "      const audio = document.createElement('audio');\n",
              "      div.appendChild(audio);\n",
              "\n",
              "      document.body.appendChild(div);\n",
              "\n",
              "      // Audioが有効になったら\n",
              "      function handlerFunction(stream,resolve) {\n",
              "          rec = new MediaRecorder(stream);\n",
              "          // 録音が完了したら\n",
              "          rec.ondataavailable = e => {\n",
              "              chanks.push(e.data);\n",
              "              if (rec.state == \"inactive\") {\n",
              "                  let blob = new Blob(chanks, { type: 'audio/mpeg-3' });\n",
              "                  audio.src = URL.createObjectURL(blob);\n",
              "                  audio.controls = true;\n",
              "                  audio.autoplay = true;\n",
              "                  resolve();\n",
              "              }\n",
              "          }\n",
              "      }\n",
              "\n",
              "      startRecord.onclick = e => {\n",
              "          startRecord.style.display = 'none'\n",
              "          stopRecord.style.display = 'block'\n",
              "          chanks = [];\n",
              "          rec.start();\n",
              "      }\n",
              "\n",
              "      stopRecord.onclick = e => {\n",
              "        startRecord.style.display = 'block'\n",
              "        stopRecord.style.display = 'none'\n",
              "        rec.stop();\n",
              "      }\n",
              "\n",
              "      function blobToBase64(blob) {\n",
              "        return new Promise((resolve, _) => {\n",
              "          const reader = new FileReader();\n",
              "          reader.onloadend = () => resolve(reader.result);\n",
              "          reader.readAsDataURL(blob);\n",
              "        });\n",
              "      }\n",
              "\n",
              "      await new Promise((resolve) => {\n",
              "        navigator.mediaDevices.getUserMedia({ audio: true })\n",
              "            .then(stream => { handlerFunction(stream,resolve) })\n",
              "      });\n",
              "      let blob = new Blob(chanks, { type: 'audio/mpeg-3' });\n",
              "      return await blobToBase64(blob);\n",
              "    }\n",
              "    "
            ]
          },
          "metadata": {}
        },
        {
          "output_type": "stream",
          "name": "stdout",
          "text": [
            "<_io.BufferedReader name='test.mp3'>\n"
          ]
        }
      ]
    },
    {
      "cell_type": "code",
      "source": [
        "import whisper\n",
        "\n",
        "# モデルのロード（今回はlarge モデルを使用）\n",
        "# 他にもbase, small, mediumがあります。\n",
        "# 一つ下のlargeを書き換えることで、モデルを変更することができます。\n",
        "model = whisper.load_model(\"large\")\n",
        "\n",
        "# 音声ファイルの読み込みと書き起こし\n",
        "result = model.transcribe(\"/content/test.mp3\")\n",
        "\n",
        "# 結果の表示\n",
        "print(\"書起こしの結果：\",result[\"text\"])"
      ],
      "metadata": {
        "colab": {
          "base_uri": "https://localhost:8080/"
        },
        "id": "CCAFcL5L4CYS",
        "outputId": "49f6f8e2-cf0e-4664-ccbd-f0acf8d58579"
      },
      "execution_count": 5,
      "outputs": [
        {
          "output_type": "stream",
          "name": "stderr",
          "text": [
            "100%|█████████████████████████████████████| 2.88G/2.88G [00:37<00:00, 83.0MiB/s]\n",
            "/usr/local/lib/python3.10/dist-packages/whisper/transcribe.py:126: UserWarning: FP16 is not supported on CPU; using FP32 instead\n",
            "  warnings.warn(\"FP16 is not supported on CPU; using FP32 instead\")\n"
          ]
        },
        {
          "output_type": "stream",
          "name": "stdout",
          "text": [
            "今日はいい天気ですね\n"
          ]
        }
      ]
    },
    {
      "cell_type": "markdown",
      "source": [
        "## ２．文字からの音声合成\n",
        "<br>\n",
        "（ア）gTTsによる音声合成"
      ],
      "metadata": {
        "id": "6Oe1O7lF6093"
      }
    },
    {
      "cell_type": "code",
      "source": [
        "#gTTSモジュールのインストール\n",
        "!pip install gTTS"
      ],
      "metadata": {
        "colab": {
          "base_uri": "https://localhost:8080/"
        },
        "id": "quKmiS-SCh4l",
        "outputId": "2928466f-3642-47e3-865f-f97742757167"
      },
      "execution_count": 6,
      "outputs": [
        {
          "output_type": "stream",
          "name": "stdout",
          "text": [
            "Collecting gTTS\n",
            "  Downloading gTTS-2.5.1-py3-none-any.whl (29 kB)\n",
            "Requirement already satisfied: requests<3,>=2.27 in /usr/local/lib/python3.10/dist-packages (from gTTS) (2.31.0)\n",
            "Requirement already satisfied: click<8.2,>=7.1 in /usr/local/lib/python3.10/dist-packages (from gTTS) (8.1.7)\n",
            "Requirement already satisfied: charset-normalizer<4,>=2 in /usr/local/lib/python3.10/dist-packages (from requests<3,>=2.27->gTTS) (3.3.2)\n",
            "Requirement already satisfied: idna<4,>=2.5 in /usr/local/lib/python3.10/dist-packages (from requests<3,>=2.27->gTTS) (3.6)\n",
            "Requirement already satisfied: urllib3<3,>=1.21.1 in /usr/local/lib/python3.10/dist-packages (from requests<3,>=2.27->gTTS) (2.0.7)\n",
            "Requirement already satisfied: certifi>=2017.4.17 in /usr/local/lib/python3.10/dist-packages (from requests<3,>=2.27->gTTS) (2024.2.2)\n",
            "Installing collected packages: gTTS\n",
            "Successfully installed gTTS-2.5.1\n"
          ]
        }
      ]
    },
    {
      "cell_type": "code",
      "source": [
        "#gTTSを使用するための準備\n",
        "from gtts import gTTS\n",
        "import IPython.display"
      ],
      "metadata": {
        "id": "SxTnsoXdAeaT"
      },
      "execution_count": 7,
      "outputs": []
    },
    {
      "cell_type": "code",
      "source": [
        "#gTTSによる文字起こし結果の音声合成とファイルの保存\n",
        "tts = gTTS(result[\"text\"], lang='ja')\n",
        "tts.save('gTTS_test.mp3')"
      ],
      "metadata": {
        "id": "JN0Mpm6A4CV6"
      },
      "execution_count": 8,
      "outputs": []
    },
    {
      "cell_type": "markdown",
      "source": [
        "result[\"text\"]を、”明日はいい天気”のように書き換えることで、別のテキストをお試しいただけます。\n",
        "\n",
        "※テキストを\"\"で加工必要があるため、ご注意下さい。"
      ],
      "metadata": {
        "id": "jy7zJ96s9Fmj"
      }
    },
    {
      "cell_type": "code",
      "source": [
        "#音声合成ファイルの再生\n",
        "IPython.display.Audio('gTTS_test.mp3')"
      ],
      "metadata": {
        "colab": {
          "base_uri": "https://localhost:8080/",
          "height": 76
        },
        "id": "k-OSfpuBCqH2",
        "outputId": "41ac258c-7a20-4956-8825-e22ec0fc9ede"
      },
      "execution_count": 9,
      "outputs": [
        {
          "output_type": "execute_result",
          "data": {
            "text/plain": [
              "<IPython.lib.display.Audio object>"
            ],
            "text/html": [
              "\n",
              "                <audio  controls=\"controls\" >\n",
              "                    <source src=\"data:audio/mpeg;base64,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\" type=\"audio/mpeg\" />\n",
              "                    Your browser does not support the audio element.\n",
              "                </audio>\n",
              "              "
            ]
          },
          "metadata": {},
          "execution_count": 9
        }
      ]
    },
    {
      "cell_type": "markdown",
      "source": [
        "（イ）VALL-E Xによる音声合成"
      ],
      "metadata": {
        "id": "qivtbtUc8Dc-"
      }
    },
    {
      "cell_type": "code",
      "source": [
        "# VALL-E-Xのダウンロードと必要なライブラリのインストール\n",
        "!git clone https://github.com/Plachtaa/VALL-E-X.git\n",
        "%cd VALL-E-X\n",
        "!pip install -r requirements.txt"
      ],
      "metadata": {
        "id": "rnXdZN2UCqjJ",
        "colab": {
          "base_uri": "https://localhost:8080/"
        },
        "outputId": "059662ab-160d-469d-8942-5f0752cd1b1f"
      },
      "execution_count": 10,
      "outputs": [
        {
          "output_type": "stream",
          "name": "stdout",
          "text": [
            "Cloning into 'VALL-E-X'...\n",
            "remote: Enumerating objects: 1055, done.\u001b[K\n",
            "remote: Counting objects: 100% (194/194), done.\u001b[K\n",
            "remote: Compressing objects: 100% (102/102), done.\u001b[K\n",
            "remote: Total 1055 (delta 119), reused 92 (delta 92), pack-reused 861\u001b[K\n",
            "Receiving objects: 100% (1055/1055), 58.01 MiB | 14.26 MiB/s, done.\n",
            "Resolving deltas: 100% (322/322), done.\n",
            "/content/VALL-E-X\n",
            "Requirement already satisfied: soundfile in /usr/local/lib/python3.10/dist-packages (from -r requirements.txt (line 1)) (0.12.1)\n",
            "Requirement already satisfied: numpy in /usr/local/lib/python3.10/dist-packages (from -r requirements.txt (line 2)) (1.25.2)\n",
            "Requirement already satisfied: torch in /usr/local/lib/python3.10/dist-packages (from -r requirements.txt (line 3)) (2.2.1+cu121)\n",
            "Requirement already satisfied: torchvision in /usr/local/lib/python3.10/dist-packages (from -r requirements.txt (line 4)) (0.17.1+cu121)\n",
            "Requirement already satisfied: torchaudio in /usr/local/lib/python3.10/dist-packages (from -r requirements.txt (line 5)) (2.2.1+cu121)\n",
            "Requirement already satisfied: tokenizers in /usr/local/lib/python3.10/dist-packages (from -r requirements.txt (line 6)) (0.15.2)\n",
            "Collecting encodec (from -r requirements.txt (line 7))\n",
            "  Downloading encodec-0.1.1.tar.gz (3.7 MB)\n",
            "\u001b[2K     \u001b[90m━━━━━━━━━━━━━━━━━━━━━━━━━━━━━━━━━━━━━━━━\u001b[0m \u001b[32m3.7/3.7 MB\u001b[0m \u001b[31m13.4 MB/s\u001b[0m eta \u001b[36m0:00:00\u001b[0m\n",
            "\u001b[?25h  Preparing metadata (setup.py) ... \u001b[?25l\u001b[?25hdone\n",
            "Collecting langid (from -r requirements.txt (line 8))\n",
            "  Downloading langid-1.1.6.tar.gz (1.9 MB)\n",
            "\u001b[2K     \u001b[90m━━━━━━━━━━━━━━━━━━━━━━━━━━━━━━━━━━━━━━━━\u001b[0m \u001b[32m1.9/1.9 MB\u001b[0m \u001b[31m6.8 MB/s\u001b[0m eta \u001b[36m0:00:00\u001b[0m\n",
            "\u001b[?25h  Preparing metadata (setup.py) ... \u001b[?25l\u001b[?25hdone\n",
            "Collecting wget (from -r requirements.txt (line 9))\n",
            "  Downloading wget-3.2.zip (10 kB)\n",
            "  Preparing metadata (setup.py) ... \u001b[?25l\u001b[?25hdone\n",
            "Collecting unidecode (from -r requirements.txt (line 10))\n",
            "  Downloading Unidecode-1.3.8-py3-none-any.whl (235 kB)\n",
            "\u001b[2K     \u001b[90m━━━━━━━━━━━━━━━━━━━━━━━━━━━━━━━━━━━━━━━━\u001b[0m \u001b[32m235.5/235.5 kB\u001b[0m \u001b[31m18.1 MB/s\u001b[0m eta \u001b[36m0:00:00\u001b[0m\n",
            "\u001b[?25hCollecting pyopenjtalk-prebuilt (from -r requirements.txt (line 11))\n",
            "  Downloading pyopenjtalk_prebuilt-0.3.0-cp310-cp310-manylinux_2_17_x86_64.manylinux2014_x86_64.whl (6.2 MB)\n",
            "\u001b[2K     \u001b[90m━━━━━━━━━━━━━━━━━━━━━━━━━━━━━━━━━━━━━━━━\u001b[0m \u001b[32m6.2/6.2 MB\u001b[0m \u001b[31m25.5 MB/s\u001b[0m eta \u001b[36m0:00:00\u001b[0m\n",
            "\u001b[?25hCollecting pypinyin (from -r requirements.txt (line 12))\n",
            "  Downloading pypinyin-0.51.0-py2.py3-none-any.whl (1.4 MB)\n",
            "\u001b[2K     \u001b[90m━━━━━━━━━━━━━━━━━━━━━━━━━━━━━━━━━━━━━━━━\u001b[0m \u001b[32m1.4/1.4 MB\u001b[0m \u001b[31m43.2 MB/s\u001b[0m eta \u001b[36m0:00:00\u001b[0m\n",
            "\u001b[?25hRequirement already satisfied: inflect in /usr/local/lib/python3.10/dist-packages (from -r requirements.txt (line 13)) (7.0.0)\n",
            "Collecting cn2an (from -r requirements.txt (line 14))\n",
            "  Downloading cn2an-0.5.22-py3-none-any.whl (224 kB)\n",
            "\u001b[2K     \u001b[90m━━━━━━━━━━━━━━━━━━━━━━━━━━━━━━━━━━━━━━━━\u001b[0m \u001b[32m225.0/225.0 kB\u001b[0m \u001b[31m19.6 MB/s\u001b[0m eta \u001b[36m0:00:00\u001b[0m\n",
            "\u001b[?25hRequirement already satisfied: jieba in /usr/local/lib/python3.10/dist-packages (from -r requirements.txt (line 15)) (0.42.1)\n",
            "Collecting eng_to_ipa (from -r requirements.txt (line 16))\n",
            "  Downloading eng_to_ipa-0.0.2.tar.gz (2.8 MB)\n",
            "\u001b[2K     \u001b[90m━━━━━━━━━━━━━━━━━━━━━━━━━━━━━━━━━━━━━━━━\u001b[0m \u001b[32m2.8/2.8 MB\u001b[0m \u001b[31m28.9 MB/s\u001b[0m eta \u001b[36m0:00:00\u001b[0m\n",
            "\u001b[?25h  Preparing metadata (setup.py) ... \u001b[?25l\u001b[?25hdone\n",
            "Requirement already satisfied: openai-whisper in /usr/local/lib/python3.10/dist-packages (from -r requirements.txt (line 17)) (20231117)\n",
            "Requirement already satisfied: matplotlib in /usr/local/lib/python3.10/dist-packages (from -r requirements.txt (line 18)) (3.7.1)\n",
            "Collecting gradio==3.41.2 (from -r requirements.txt (line 19))\n",
            "  Downloading gradio-3.41.2-py3-none-any.whl (20.1 MB)\n",
            "\u001b[2K     \u001b[90m━━━━━━━━━━━━━━━━━━━━━━━━━━━━━━━━━━━━━━━━\u001b[0m \u001b[32m20.1/20.1 MB\u001b[0m \u001b[31m12.1 MB/s\u001b[0m eta \u001b[36m0:00:00\u001b[0m\n",
            "\u001b[?25hRequirement already satisfied: nltk in /usr/local/lib/python3.10/dist-packages (from -r requirements.txt (line 20)) (3.8.1)\n",
            "Collecting sudachipy (from -r requirements.txt (line 21))\n",
            "  Downloading SudachiPy-0.6.8-cp310-cp310-manylinux_2_17_x86_64.manylinux2014_x86_64.whl (2.6 MB)\n",
            "\u001b[2K     \u001b[90m━━━━━━━━━━━━━━━━━━━━━━━━━━━━━━━━━━━━━━━━\u001b[0m \u001b[32m2.6/2.6 MB\u001b[0m \u001b[31m57.7 MB/s\u001b[0m eta \u001b[36m0:00:00\u001b[0m\n",
            "\u001b[?25hCollecting sudachidict_core (from -r requirements.txt (line 22))\n",
            "  Downloading SudachiDict_core-20240109-py3-none-any.whl (71.8 MB)\n",
            "\u001b[2K     \u001b[90m━━━━━━━━━━━━━━━━━━━━━━━━━━━━━━━━━━━━━━━━\u001b[0m \u001b[32m71.8/71.8 MB\u001b[0m \u001b[31m14.0 MB/s\u001b[0m eta \u001b[36m0:00:00\u001b[0m\n",
            "\u001b[?25hCollecting vocos (from -r requirements.txt (line 23))\n",
            "  Downloading vocos-0.1.0-py3-none-any.whl (24 kB)\n",
            "Collecting aiofiles<24.0,>=22.0 (from gradio==3.41.2->-r requirements.txt (line 19))\n",
            "  Downloading aiofiles-23.2.1-py3-none-any.whl (15 kB)\n",
            "Requirement already satisfied: altair<6.0,>=4.2.0 in /usr/local/lib/python3.10/dist-packages (from gradio==3.41.2->-r requirements.txt (line 19)) (4.2.2)\n",
            "Collecting fastapi (from gradio==3.41.2->-r requirements.txt (line 19))\n",
            "  Downloading fastapi-0.110.0-py3-none-any.whl (92 kB)\n",
            "\u001b[2K     \u001b[90m━━━━━━━━━━━━━━━━━━━━━━━━━━━━━━━━━━━━━━━━\u001b[0m \u001b[32m92.1/92.1 kB\u001b[0m \u001b[31m9.5 MB/s\u001b[0m eta \u001b[36m0:00:00\u001b[0m\n",
            "\u001b[?25hCollecting ffmpy (from gradio==3.41.2->-r requirements.txt (line 19))\n",
            "  Downloading ffmpy-0.3.2.tar.gz (5.5 kB)\n",
            "  Preparing metadata (setup.py) ... \u001b[?25l\u001b[?25hdone\n",
            "Collecting gradio-client==0.5.0 (from gradio==3.41.2->-r requirements.txt (line 19))\n",
            "  Downloading gradio_client-0.5.0-py3-none-any.whl (298 kB)\n",
            "\u001b[2K     \u001b[90m━━━━━━━━━━━━━━━━━━━━━━━━━━━━━━━━━━━━━━━━\u001b[0m \u001b[32m298.2/298.2 kB\u001b[0m \u001b[31m29.6 MB/s\u001b[0m eta \u001b[36m0:00:00\u001b[0m\n",
            "\u001b[?25hCollecting httpx (from gradio==3.41.2->-r requirements.txt (line 19))\n",
            "  Downloading httpx-0.27.0-py3-none-any.whl (75 kB)\n",
            "\u001b[2K     \u001b[90m━━━━━━━━━━━━━━━━━━━━━━━━━━━━━━━━━━━━━━━━\u001b[0m \u001b[32m75.6/75.6 kB\u001b[0m \u001b[31m7.4 MB/s\u001b[0m eta \u001b[36m0:00:00\u001b[0m\n",
            "\u001b[?25hRequirement already satisfied: huggingface-hub>=0.14.0 in /usr/local/lib/python3.10/dist-packages (from gradio==3.41.2->-r requirements.txt (line 19)) (0.20.3)\n",
            "Requirement already satisfied: importlib-resources<7.0,>=1.3 in /usr/local/lib/python3.10/dist-packages (from gradio==3.41.2->-r requirements.txt (line 19)) (6.3.2)\n",
            "Requirement already satisfied: jinja2<4.0 in /usr/local/lib/python3.10/dist-packages (from gradio==3.41.2->-r requirements.txt (line 19)) (3.1.3)\n",
            "Requirement already satisfied: markupsafe~=2.0 in /usr/local/lib/python3.10/dist-packages (from gradio==3.41.2->-r requirements.txt (line 19)) (2.1.5)\n",
            "Collecting orjson~=3.0 (from gradio==3.41.2->-r requirements.txt (line 19))\n",
            "  Downloading orjson-3.9.15-cp310-cp310-manylinux_2_17_x86_64.manylinux2014_x86_64.whl (138 kB)\n",
            "\u001b[2K     \u001b[90m━━━━━━━━━━━━━━━━━━━━━━━━━━━━━━━━━━━━━━━━\u001b[0m \u001b[32m138.5/138.5 kB\u001b[0m \u001b[31m14.3 MB/s\u001b[0m eta \u001b[36m0:00:00\u001b[0m\n",
            "\u001b[?25hRequirement already satisfied: packaging in /usr/local/lib/python3.10/dist-packages (from gradio==3.41.2->-r requirements.txt (line 19)) (24.0)\n",
            "Requirement already satisfied: pandas<3.0,>=1.0 in /usr/local/lib/python3.10/dist-packages (from gradio==3.41.2->-r requirements.txt (line 19)) (1.5.3)\n",
            "Requirement already satisfied: pillow<11.0,>=8.0 in /usr/local/lib/python3.10/dist-packages (from gradio==3.41.2->-r requirements.txt (line 19)) (9.4.0)\n",
            "Requirement already satisfied: pydantic!=1.8,!=1.8.1,!=2.0.0,!=2.0.1,<3.0.0,>=1.7.4 in /usr/local/lib/python3.10/dist-packages (from gradio==3.41.2->-r requirements.txt (line 19)) (2.6.4)\n",
            "Requirement already satisfied: pydub in /usr/local/lib/python3.10/dist-packages (from gradio==3.41.2->-r requirements.txt (line 19)) (0.25.1)\n",
            "Collecting python-multipart (from gradio==3.41.2->-r requirements.txt (line 19))\n",
            "  Downloading python_multipart-0.0.9-py3-none-any.whl (22 kB)\n",
            "Requirement already satisfied: pyyaml<7.0,>=5.0 in /usr/local/lib/python3.10/dist-packages (from gradio==3.41.2->-r requirements.txt (line 19)) (6.0.1)\n",
            "Requirement already satisfied: requests~=2.0 in /usr/local/lib/python3.10/dist-packages (from gradio==3.41.2->-r requirements.txt (line 19)) (2.31.0)\n",
            "Collecting semantic-version~=2.0 (from gradio==3.41.2->-r requirements.txt (line 19))\n",
            "  Downloading semantic_version-2.10.0-py2.py3-none-any.whl (15 kB)\n",
            "Requirement already satisfied: typing-extensions~=4.0 in /usr/local/lib/python3.10/dist-packages (from gradio==3.41.2->-r requirements.txt (line 19)) (4.10.0)\n",
            "Collecting uvicorn>=0.14.0 (from gradio==3.41.2->-r requirements.txt (line 19))\n",
            "  Downloading uvicorn-0.29.0-py3-none-any.whl (60 kB)\n",
            "\u001b[2K     \u001b[90m━━━━━━━━━━━━━━━━━━━━━━━━━━━━━━━━━━━━━━━━\u001b[0m \u001b[32m60.8/60.8 kB\u001b[0m \u001b[31m7.0 MB/s\u001b[0m eta \u001b[36m0:00:00\u001b[0m\n",
            "\u001b[?25hCollecting websockets<12.0,>=10.0 (from gradio==3.41.2->-r requirements.txt (line 19))\n",
            "  Downloading websockets-11.0.3-cp310-cp310-manylinux_2_5_x86_64.manylinux1_x86_64.manylinux_2_17_x86_64.manylinux2014_x86_64.whl (129 kB)\n",
            "\u001b[2K     \u001b[90m━━━━━━━━━━━━━━━━━━━━━━━━━━━━━━━━━━━━━━━━\u001b[0m \u001b[32m129.9/129.9 kB\u001b[0m \u001b[31m14.6 MB/s\u001b[0m eta \u001b[36m0:00:00\u001b[0m\n",
            "\u001b[?25hRequirement already satisfied: fsspec in /usr/local/lib/python3.10/dist-packages (from gradio-client==0.5.0->gradio==3.41.2->-r requirements.txt (line 19)) (2023.6.0)\n",
            "Requirement already satisfied: cffi>=1.0 in /usr/local/lib/python3.10/dist-packages (from soundfile->-r requirements.txt (line 1)) (1.16.0)\n",
            "Requirement already satisfied: filelock in /usr/local/lib/python3.10/dist-packages (from torch->-r requirements.txt (line 3)) (3.13.1)\n",
            "Requirement already satisfied: sympy in /usr/local/lib/python3.10/dist-packages (from torch->-r requirements.txt (line 3)) (1.12)\n",
            "Requirement already satisfied: networkx in /usr/local/lib/python3.10/dist-packages (from torch->-r requirements.txt (line 3)) (3.2.1)\n",
            "Requirement already satisfied: nvidia-cuda-nvrtc-cu12==12.1.105 in /usr/local/lib/python3.10/dist-packages (from torch->-r requirements.txt (line 3)) (12.1.105)\n",
            "Requirement already satisfied: nvidia-cuda-runtime-cu12==12.1.105 in /usr/local/lib/python3.10/dist-packages (from torch->-r requirements.txt (line 3)) (12.1.105)\n",
            "Requirement already satisfied: nvidia-cuda-cupti-cu12==12.1.105 in /usr/local/lib/python3.10/dist-packages (from torch->-r requirements.txt (line 3)) (12.1.105)\n",
            "Requirement already satisfied: nvidia-cudnn-cu12==8.9.2.26 in /usr/local/lib/python3.10/dist-packages (from torch->-r requirements.txt (line 3)) (8.9.2.26)\n",
            "Requirement already satisfied: nvidia-cublas-cu12==12.1.3.1 in /usr/local/lib/python3.10/dist-packages (from torch->-r requirements.txt (line 3)) (12.1.3.1)\n",
            "Requirement already satisfied: nvidia-cufft-cu12==11.0.2.54 in /usr/local/lib/python3.10/dist-packages (from torch->-r requirements.txt (line 3)) (11.0.2.54)\n",
            "Requirement already satisfied: nvidia-curand-cu12==10.3.2.106 in /usr/local/lib/python3.10/dist-packages (from torch->-r requirements.txt (line 3)) (10.3.2.106)\n",
            "Requirement already satisfied: nvidia-cusolver-cu12==11.4.5.107 in /usr/local/lib/python3.10/dist-packages (from torch->-r requirements.txt (line 3)) (11.4.5.107)\n",
            "Requirement already satisfied: nvidia-cusparse-cu12==12.1.0.106 in /usr/local/lib/python3.10/dist-packages (from torch->-r requirements.txt (line 3)) (12.1.0.106)\n",
            "Requirement already satisfied: nvidia-nccl-cu12==2.19.3 in /usr/local/lib/python3.10/dist-packages (from torch->-r requirements.txt (line 3)) (2.19.3)\n",
            "Requirement already satisfied: nvidia-nvtx-cu12==12.1.105 in /usr/local/lib/python3.10/dist-packages (from torch->-r requirements.txt (line 3)) (12.1.105)\n",
            "Requirement already satisfied: triton==2.2.0 in /usr/local/lib/python3.10/dist-packages (from torch->-r requirements.txt (line 3)) (2.2.0)\n",
            "Requirement already satisfied: nvidia-nvjitlink-cu12 in /usr/local/lib/python3.10/dist-packages (from nvidia-cusolver-cu12==11.4.5.107->torch->-r requirements.txt (line 3)) (12.4.99)\n",
            "Collecting einops (from encodec->-r requirements.txt (line 7))\n",
            "  Downloading einops-0.7.0-py3-none-any.whl (44 kB)\n",
            "\u001b[2K     \u001b[90m━━━━━━━━━━━━━━━━━━━━━━━━━━━━━━━━━━━━━━━━\u001b[0m \u001b[32m44.6/44.6 kB\u001b[0m \u001b[31m4.3 MB/s\u001b[0m eta \u001b[36m0:00:00\u001b[0m\n",
            "\u001b[?25hRequirement already satisfied: cython>=0.21.0 in /usr/local/lib/python3.10/dist-packages (from pyopenjtalk-prebuilt->-r requirements.txt (line 11)) (3.0.9)\n",
            "Requirement already satisfied: six in /usr/local/lib/python3.10/dist-packages (from pyopenjtalk-prebuilt->-r requirements.txt (line 11)) (1.16.0)\n",
            "Requirement already satisfied: tqdm in /usr/local/lib/python3.10/dist-packages (from pyopenjtalk-prebuilt->-r requirements.txt (line 11)) (4.66.2)\n",
            "Requirement already satisfied: setuptools>=47.3.1 in /usr/local/lib/python3.10/dist-packages (from cn2an->-r requirements.txt (line 14)) (67.7.2)\n",
            "Collecting proces>=0.1.3 (from cn2an->-r requirements.txt (line 14))\n",
            "  Downloading proces-0.1.7-py3-none-any.whl (137 kB)\n",
            "\u001b[2K     \u001b[90m━━━━━━━━━━━━━━━━━━━━━━━━━━━━━━━━━━━━━━━━\u001b[0m \u001b[32m137.7/137.7 kB\u001b[0m \u001b[31m16.5 MB/s\u001b[0m eta \u001b[36m0:00:00\u001b[0m\n",
            "\u001b[?25hRequirement already satisfied: numba in /usr/local/lib/python3.10/dist-packages (from openai-whisper->-r requirements.txt (line 17)) (0.58.1)\n",
            "Requirement already satisfied: more-itertools in /usr/local/lib/python3.10/dist-packages (from openai-whisper->-r requirements.txt (line 17)) (10.1.0)\n",
            "Requirement already satisfied: tiktoken in /usr/local/lib/python3.10/dist-packages (from openai-whisper->-r requirements.txt (line 17)) (0.6.0)\n",
            "Requirement already satisfied: contourpy>=1.0.1 in /usr/local/lib/python3.10/dist-packages (from matplotlib->-r requirements.txt (line 18)) (1.2.0)\n",
            "Requirement already satisfied: cycler>=0.10 in /usr/local/lib/python3.10/dist-packages (from matplotlib->-r requirements.txt (line 18)) (0.12.1)\n",
            "Requirement already satisfied: fonttools>=4.22.0 in /usr/local/lib/python3.10/dist-packages (from matplotlib->-r requirements.txt (line 18)) (4.50.0)\n",
            "Requirement already satisfied: kiwisolver>=1.0.1 in /usr/local/lib/python3.10/dist-packages (from matplotlib->-r requirements.txt (line 18)) (1.4.5)\n",
            "Requirement already satisfied: pyparsing>=2.3.1 in /usr/local/lib/python3.10/dist-packages (from matplotlib->-r requirements.txt (line 18)) (3.1.2)\n",
            "Requirement already satisfied: python-dateutil>=2.7 in /usr/local/lib/python3.10/dist-packages (from matplotlib->-r requirements.txt (line 18)) (2.8.2)\n",
            "Requirement already satisfied: click in /usr/local/lib/python3.10/dist-packages (from nltk->-r requirements.txt (line 20)) (8.1.7)\n",
            "Requirement already satisfied: joblib in /usr/local/lib/python3.10/dist-packages (from nltk->-r requirements.txt (line 20)) (1.3.2)\n",
            "Requirement already satisfied: regex>=2021.8.3 in /usr/local/lib/python3.10/dist-packages (from nltk->-r requirements.txt (line 20)) (2023.12.25)\n",
            "Requirement already satisfied: scipy in /usr/local/lib/python3.10/dist-packages (from vocos->-r requirements.txt (line 23)) (1.11.4)\n",
            "Requirement already satisfied: entrypoints in /usr/local/lib/python3.10/dist-packages (from altair<6.0,>=4.2.0->gradio==3.41.2->-r requirements.txt (line 19)) (0.4)\n",
            "Requirement already satisfied: jsonschema>=3.0 in /usr/local/lib/python3.10/dist-packages (from altair<6.0,>=4.2.0->gradio==3.41.2->-r requirements.txt (line 19)) (4.19.2)\n",
            "Requirement already satisfied: toolz in /usr/local/lib/python3.10/dist-packages (from altair<6.0,>=4.2.0->gradio==3.41.2->-r requirements.txt (line 19)) (0.12.1)\n",
            "Requirement already satisfied: pycparser in /usr/local/lib/python3.10/dist-packages (from cffi>=1.0->soundfile->-r requirements.txt (line 1)) (2.21)\n",
            "Requirement already satisfied: pytz>=2020.1 in /usr/local/lib/python3.10/dist-packages (from pandas<3.0,>=1.0->gradio==3.41.2->-r requirements.txt (line 19)) (2023.4)\n",
            "Requirement already satisfied: annotated-types>=0.4.0 in /usr/local/lib/python3.10/dist-packages (from pydantic!=1.8,!=1.8.1,!=2.0.0,!=2.0.1,<3.0.0,>=1.7.4->gradio==3.41.2->-r requirements.txt (line 19)) (0.6.0)\n",
            "Requirement already satisfied: pydantic-core==2.16.3 in /usr/local/lib/python3.10/dist-packages (from pydantic!=1.8,!=1.8.1,!=2.0.0,!=2.0.1,<3.0.0,>=1.7.4->gradio==3.41.2->-r requirements.txt (line 19)) (2.16.3)\n",
            "Requirement already satisfied: charset-normalizer<4,>=2 in /usr/local/lib/python3.10/dist-packages (from requests~=2.0->gradio==3.41.2->-r requirements.txt (line 19)) (3.3.2)\n",
            "Requirement already satisfied: idna<4,>=2.5 in /usr/local/lib/python3.10/dist-packages (from requests~=2.0->gradio==3.41.2->-r requirements.txt (line 19)) (3.6)\n",
            "Requirement already satisfied: urllib3<3,>=1.21.1 in /usr/local/lib/python3.10/dist-packages (from requests~=2.0->gradio==3.41.2->-r requirements.txt (line 19)) (2.0.7)\n",
            "Requirement already satisfied: certifi>=2017.4.17 in /usr/local/lib/python3.10/dist-packages (from requests~=2.0->gradio==3.41.2->-r requirements.txt (line 19)) (2024.2.2)\n",
            "Collecting h11>=0.8 (from uvicorn>=0.14.0->gradio==3.41.2->-r requirements.txt (line 19))\n",
            "  Downloading h11-0.14.0-py3-none-any.whl (58 kB)\n",
            "\u001b[2K     \u001b[90m━━━━━━━━━━━━━━━━━━━━━━━━━━━━━━━━━━━━━━━━\u001b[0m \u001b[32m58.3/58.3 kB\u001b[0m \u001b[31m6.6 MB/s\u001b[0m eta \u001b[36m0:00:00\u001b[0m\n",
            "\u001b[?25hCollecting starlette<0.37.0,>=0.36.3 (from fastapi->gradio==3.41.2->-r requirements.txt (line 19))\n",
            "  Downloading starlette-0.36.3-py3-none-any.whl (71 kB)\n",
            "\u001b[2K     \u001b[90m━━━━━━━━━━━━━━━━━━━━━━━━━━━━━━━━━━━━━━━━\u001b[0m \u001b[32m71.5/71.5 kB\u001b[0m \u001b[31m7.9 MB/s\u001b[0m eta \u001b[36m0:00:00\u001b[0m\n",
            "\u001b[?25hRequirement already satisfied: anyio in /usr/local/lib/python3.10/dist-packages (from httpx->gradio==3.41.2->-r requirements.txt (line 19)) (3.7.1)\n",
            "Collecting httpcore==1.* (from httpx->gradio==3.41.2->-r requirements.txt (line 19))\n",
            "  Downloading httpcore-1.0.4-py3-none-any.whl (77 kB)\n",
            "\u001b[2K     \u001b[90m━━━━━━━━━━━━━━━━━━━━━━━━━━━━━━━━━━━━━━━━\u001b[0m \u001b[32m77.8/77.8 kB\u001b[0m \u001b[31m8.7 MB/s\u001b[0m eta \u001b[36m0:00:00\u001b[0m\n",
            "\u001b[?25hRequirement already satisfied: sniffio in /usr/local/lib/python3.10/dist-packages (from httpx->gradio==3.41.2->-r requirements.txt (line 19)) (1.3.1)\n",
            "Requirement already satisfied: llvmlite<0.42,>=0.41.0dev0 in /usr/local/lib/python3.10/dist-packages (from numba->openai-whisper->-r requirements.txt (line 17)) (0.41.1)\n",
            "Requirement already satisfied: mpmath>=0.19 in /usr/local/lib/python3.10/dist-packages (from sympy->torch->-r requirements.txt (line 3)) (1.3.0)\n",
            "Requirement already satisfied: attrs>=22.2.0 in /usr/local/lib/python3.10/dist-packages (from jsonschema>=3.0->altair<6.0,>=4.2.0->gradio==3.41.2->-r requirements.txt (line 19)) (23.2.0)\n",
            "Requirement already satisfied: jsonschema-specifications>=2023.03.6 in /usr/local/lib/python3.10/dist-packages (from jsonschema>=3.0->altair<6.0,>=4.2.0->gradio==3.41.2->-r requirements.txt (line 19)) (2023.12.1)\n",
            "Requirement already satisfied: referencing>=0.28.4 in /usr/local/lib/python3.10/dist-packages (from jsonschema>=3.0->altair<6.0,>=4.2.0->gradio==3.41.2->-r requirements.txt (line 19)) (0.34.0)\n",
            "Requirement already satisfied: rpds-py>=0.7.1 in /usr/local/lib/python3.10/dist-packages (from jsonschema>=3.0->altair<6.0,>=4.2.0->gradio==3.41.2->-r requirements.txt (line 19)) (0.18.0)\n",
            "Requirement already satisfied: exceptiongroup in /usr/local/lib/python3.10/dist-packages (from anyio->httpx->gradio==3.41.2->-r requirements.txt (line 19)) (1.2.0)\n",
            "Building wheels for collected packages: encodec, langid, wget, eng_to_ipa, ffmpy\n",
            "  Building wheel for encodec (setup.py) ... \u001b[?25l\u001b[?25hdone\n",
            "  Created wheel for encodec: filename=encodec-0.1.1-py3-none-any.whl size=45762 sha256=dd903c7783796b8fb18badeceefd840e5726994b8390725f0e62da7c50265577\n",
            "  Stored in directory: /root/.cache/pip/wheels/fc/36/cb/81af8b985a5f5e0815312d5e52b41263237af07b977e6bcbf3\n",
            "  Building wheel for langid (setup.py) ... \u001b[?25l\u001b[?25hdone\n",
            "  Created wheel for langid: filename=langid-1.1.6-py3-none-any.whl size=1941172 sha256=9f3942806125cee33e128ec37fcb5ef8b487051eef8702a688256a66edfa439a\n",
            "  Stored in directory: /root/.cache/pip/wheels/23/c8/c6/eed80894918490a175677414d40bd7c851413bbe03d4856c3c\n",
            "  Building wheel for wget (setup.py) ... \u001b[?25l\u001b[?25hdone\n",
            "  Created wheel for wget: filename=wget-3.2-py3-none-any.whl size=9656 sha256=46282823488f0605c8479ca86f77c95f5ace442a0fe437c83d6cef63cf06d2f6\n",
            "  Stored in directory: /root/.cache/pip/wheels/8b/f1/7f/5c94f0a7a505ca1c81cd1d9208ae2064675d97582078e6c769\n",
            "  Building wheel for eng_to_ipa (setup.py) ... \u001b[?25l\u001b[?25hdone\n",
            "  Created wheel for eng_to_ipa: filename=eng_to_ipa-0.0.2-py3-none-any.whl size=2822607 sha256=25f3d62b8235f6b2fe530cbda572be7dd3ccf47a7ffc6c253cb896f22cbaaed2\n",
            "  Stored in directory: /root/.cache/pip/wheels/5b/ab/07/fe6722f710d8ef8bd0ccb4eb689ef96f5552f3fc0c80c1aa9c\n",
            "  Building wheel for ffmpy (setup.py) ... \u001b[?25l\u001b[?25hdone\n",
            "  Created wheel for ffmpy: filename=ffmpy-0.3.2-py3-none-any.whl size=5584 sha256=45227ad85acb036f2bad51c21b0b8f333635084826ed2f6279085eaba09cb05d\n",
            "  Stored in directory: /root/.cache/pip/wheels/bd/65/9a/671fc6dcde07d4418df0c592f8df512b26d7a0029c2a23dd81\n",
            "Successfully built encodec langid wget eng_to_ipa ffmpy\n",
            "Installing collected packages: wget, sudachipy, ffmpy, eng_to_ipa, websockets, unidecode, sudachidict_core, semantic-version, python-multipart, pypinyin, pyopenjtalk-prebuilt, proces, orjson, langid, h11, einops, aiofiles, uvicorn, starlette, httpcore, cn2an, httpx, fastapi, gradio-client, gradio, encodec, vocos\n",
            "Successfully installed aiofiles-23.2.1 cn2an-0.5.22 einops-0.7.0 encodec-0.1.1 eng_to_ipa-0.0.2 fastapi-0.110.0 ffmpy-0.3.2 gradio-3.41.2 gradio-client-0.5.0 h11-0.14.0 httpcore-1.0.4 httpx-0.27.0 langid-1.1.6 orjson-3.9.15 proces-0.1.7 pyopenjtalk-prebuilt-0.3.0 pypinyin-0.51.0 python-multipart-0.0.9 semantic-version-2.10.0 starlette-0.36.3 sudachidict_core-20240109 sudachipy-0.6.8 unidecode-1.3.8 uvicorn-0.29.0 vocos-0.1.0 websockets-11.0.3 wget-3.2\n"
          ]
        }
      ]
    },
    {
      "cell_type": "code",
      "source": [
        "# VALL-E Xを使用する準備\n",
        "from utils.generation import SAMPLE_RATE, generate_audio, preload_models\n",
        "from scipy.io.wavfile import write as write_wav\n",
        "from IPython.display import Audio"
      ],
      "metadata": {
        "id": "2w9IwkOQCqgs"
      },
      "execution_count": 11,
      "outputs": []
    },
    {
      "cell_type": "code",
      "source": [
        "# VALL-E Xのモデルのダウンロード\n",
        "preload_models()"
      ],
      "metadata": {
        "colab": {
          "base_uri": "https://localhost:8080/",
          "height": 283,
          "referenced_widgets": [
            "8c594fb34ec549838a019c29391a2a4a",
            "cc074fb9971e43dc94c608e1a43d74bf",
            "9308e996ca75414c862cd3bf015c42a4",
            "8d908e9f999140128df28e702ff8a388",
            "2ded0617a3e74f818f81dff627d78425",
            "a5310a1a9eca4500a57372e67457220c",
            "60a5271d032e4f5dbd16a025bcb43223",
            "ad2c759589ab452b814e3a0c20ca78d0",
            "f2fe94ee458c414fa87921ec77168674",
            "029213d287544bc0927260308f81d905",
            "97d0f59555674f08ad313fd72c7f0fc5",
            "323f54b59345405eb0ce461721ce4fe8",
            "c013400c63ca400b8bf3da62842310c3",
            "a45b6a0ffec346e09ed7078b57a318c9",
            "76ab961d91ff4f02bd8592bce9f21452",
            "b681ec955fc541069640da1a2618127b",
            "743ce6e50d9f4570b402f0606b55b13a",
            "eca456a35b9c44a4b65a194793f5aab2",
            "2a39a42f61ae453db52ecc36a04df157",
            "f685caf5498144718461effa1256fa3f",
            "265d81da805a48f58d3bde5578915f3f",
            "73832fab0140474e921fce730364d71d"
          ]
        },
        "id": "fgF10hAdnHCR",
        "outputId": "4fd845ce-61bc-4886-fe70-e6c6ae1241be"
      },
      "execution_count": 12,
      "outputs": [
        {
          "output_type": "stream",
          "name": "stderr",
          "text": [
            "/usr/local/lib/python3.10/dist-packages/torch/nn/utils/weight_norm.py:28: UserWarning: torch.nn.utils.weight_norm is deprecated in favor of torch.nn.utils.parametrizations.weight_norm.\n",
            "  warnings.warn(\"torch.nn.utils.weight_norm is deprecated in favor of torch.nn.utils.parametrizations.weight_norm.\")\n",
            "Downloading: \"https://dl.fbaipublicfiles.com/encodec/v0/encodec_24khz-d7cc33bc.th\" to /root/.cache/torch/hub/checkpoints/encodec_24khz-d7cc33bc.th\n",
            "100%|██████████| 88.9M/88.9M [00:01<00:00, 88.0MB/s]\n",
            "/usr/local/lib/python3.10/dist-packages/huggingface_hub/utils/_token.py:88: UserWarning: \n",
            "The secret `HF_TOKEN` does not exist in your Colab secrets.\n",
            "To authenticate with the Hugging Face Hub, create a token in your settings tab (https://huggingface.co/settings/tokens), set it as secret in your Google Colab and restart your session.\n",
            "You will be able to reuse this secret in all of your notebooks.\n",
            "Please note that authentication is recommended but still optional to access public models or datasets.\n",
            "  warnings.warn(\n"
          ]
        },
        {
          "output_type": "display_data",
          "data": {
            "text/plain": [
              "config.yaml:   0%|          | 0.00/503 [00:00<?, ?B/s]"
            ],
            "application/vnd.jupyter.widget-view+json": {
              "version_major": 2,
              "version_minor": 0,
              "model_id": "8c594fb34ec549838a019c29391a2a4a"
            }
          },
          "metadata": {}
        },
        {
          "output_type": "display_data",
          "data": {
            "text/plain": [
              "pytorch_model.bin:   0%|          | 0.00/40.4M [00:00<?, ?B/s]"
            ],
            "application/vnd.jupyter.widget-view+json": {
              "version_major": 2,
              "version_minor": 0,
              "model_id": "323f54b59345405eb0ce461721ce4fe8"
            }
          },
          "metadata": {}
        }
      ]
    },
    {
      "cell_type": "code",
      "source": [
        "# VALL-E Xによる音声合成\n",
        "text_prompt = result[\"text\"]\n",
        "audio_array = generate_audio(text_prompt, prompt=\"cafe\")\n",
        "\n",
        "# 音声合成結果の保存\n",
        "write_wav(\"/content/japanese.wav\", SAMPLE_RATE, audio_array)\n",
        "Audio(audio_array, rate=SAMPLE_RATE)"
      ],
      "metadata": {
        "colab": {
          "base_uri": "https://localhost:8080/",
          "height": 182,
          "referenced_widgets": [
            "862d7b312bf74dd5b1739add1a5cfacd",
            "09c23656e0be4b4eb49e440bae6635e2",
            "e393cb8cc27c47008cc10cca75e42350",
            "8b252820f95f4c2099e57f867d20f84a",
            "10a95378a9094eada09cc79526ff0a6a",
            "e298ae9c60c24ec693c62b16b66aec49",
            "0f9b96fe003a422795f8c4b8d0882839",
            "241da7f8f590430da900008be591129e",
            "35d8864cce7843cabfef93f7c593b95e",
            "a219e7fe37a145ddbbcc9987edeed3d3",
            "823b6e5bb23e432c8480c80a52a75a4c"
          ]
        },
        "id": "Qta_ztbUnIwy",
        "outputId": "df77284a-46ec-4623-ed9a-50b41177248c"
      },
      "execution_count": 13,
      "outputs": [
        {
          "output_type": "stream",
          "name": "stdout",
          "text": [
            "Downloading: \"https://github.com/r9y9/open_jtalk/releases/download/v1.11.1/open_jtalk_dic_utf_8-1.11.tar.gz\"\n"
          ]
        },
        {
          "output_type": "display_data",
          "data": {
            "text/plain": [
              "dic.tar.gz: 0.00B [00:00, ?B/s]"
            ],
            "application/vnd.jupyter.widget-view+json": {
              "version_major": 2,
              "version_minor": 0,
              "model_id": "862d7b312bf74dd5b1739add1a5cfacd"
            }
          },
          "metadata": {}
        },
        {
          "output_type": "stream",
          "name": "stdout",
          "text": [
            "Extracting tar file /usr/local/lib/python3.10/dist-packages/pyopenjtalk/dic.tar.gz\n",
            "VALL-E EOS [331 -> 556]\n"
          ]
        },
        {
          "output_type": "execute_result",
          "data": {
            "text/plain": [
              "<IPython.lib.display.Audio object>"
            ],
            "text/html": [
              "\n",
              "                <audio  controls=\"controls\" >\n",
              "                    <source src=\"data:audio/wav;base64,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\" type=\"audio/wav\" />\n",
              "                    Your browser does not support the audio element.\n",
              "                </audio>\n",
              "              "
            ]
          },
          "metadata": {},
          "execution_count": 13
        }
      ]
    },
    {
      "cell_type": "markdown",
      "source": [
        "text_prompt = result[\"text\"]の〝result[\"text\"]”を、”明日はいい天気”のように書き換えることで、別のテキストをお試しいただけます。\n",
        "\n",
        "※テキストを\"\"で加工必要があるため、ご注意下さい。"
      ],
      "metadata": {
        "id": "VKYF4Fk69Hrn"
      }
    }
  ]
}